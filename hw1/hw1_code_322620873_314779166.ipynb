{
  "nbformat": 4,
  "nbformat_minor": 0,
  "metadata": {
    "colab": {
      "provenance": []
    },
    "kernelspec": {
      "name": "python3",
      "display_name": "Python 3"
    },
    "language_info": {
      "name": "python"
    }
  },
  "cells": [
    {
      "cell_type": "markdown",
      "source": [
        "# HW1 Code:\n",
        "## ***Part A***"
      ],
      "metadata": {
        "id": "g5_nDxnzdABy"
      }
    },
    {
      "cell_type": "code",
      "source": [
        "\"\"\" Take a csv file line, returns a list of its values \"\"\"\n",
        "def split_commas(x):\n",
        "  splitted = []\n",
        "  values = x.split(',')\n",
        "  i = 0\n",
        "  while i < len(values):\n",
        "    if values[i].startswith('\"'):\n",
        "      new_val = values[i]\n",
        "      if not (values[i].endswith('\"')):\n",
        "        while (i < len(values)-1) and not (values[i+1].endswith('\"')):\n",
        "          i+=1\n",
        "          new_val = new_val + ',' + (values[i])\n",
        "        i+=1\n",
        "        if i < len(values):\n",
        "          new_val = new_val + ',' + values[i]\n",
        "      splitted.append(new_val.split('\"')[1])\n",
        "    else:\n",
        "      splitted.append(values[i])\n",
        "    i += 1\n",
        "  return splitted"
      ],
      "metadata": {
        "id": "ek-nM7Kwd9pr"
      },
      "execution_count": 37,
      "outputs": []
    },
    {
      "cell_type": "code",
      "execution_count": 38,
      "metadata": {
        "id": "vW3nYmRDLbzc"
      },
      "outputs": [],
      "source": [
        "csv_path = \"/content/500k_daily_prog_data.csv\"\n",
        "txt_path = \"500k_daily_prog_data.txt\"\n",
        "separator = '||'\n",
        "\n",
        "\"\"\" Read a csv file, write it to txt file with || separators instead of commas \"\"\"\n",
        "with open(csv_path, 'r') as csv_file, open(txt_path, 'w') as txt_file:\n",
        "    for line in csv_file:\n",
        "      new_line = split_commas(line)\n",
        "      txt_file.write(separator.join(new_line))"
      ]
    },
    {
      "cell_type": "code",
      "source": [
        "! pip install mrjob"
      ],
      "metadata": {
        "colab": {
          "base_uri": "https://localhost:8080/"
        },
        "id": "SApe-_WBNex0",
        "outputId": "71d3f653-200e-40cb-d3d5-076f5a37060a"
      },
      "execution_count": 39,
      "outputs": [
        {
          "output_type": "stream",
          "name": "stdout",
          "text": [
            "Looking in indexes: https://pypi.org/simple, https://us-python.pkg.dev/colab-wheels/public/simple/\n",
            "Requirement already satisfied: mrjob in /usr/local/lib/python3.10/dist-packages (0.7.4)\n",
            "Requirement already satisfied: PyYAML>=3.10 in /usr/local/lib/python3.10/dist-packages (from mrjob) (6.0)\n"
          ]
        }
      ]
    },
    {
      "cell_type": "code",
      "source": [
        "%%file hw1.py\n",
        "\n",
        "from mrjob.job import MRJob\n",
        "from mrjob.step import MRStep\n",
        "\n",
        "class hw1(MRJob):\n",
        "  # Condition 1:\n",
        "  def filter_airtime(self, time):\n",
        "    return int(time) >= 70000 and int(time) < 90000\n",
        "\n",
        "  # Condition 2:\n",
        "  def filter_genre(self, genre):\n",
        "    flag = False\n",
        "    for g in ['Talk', 'Politics', 'Spanish', 'Community', 'Martial arts']:\n",
        "      if g in genre.split(\",\"):\n",
        "          flag = True\n",
        "    return flag\n",
        "  \n",
        "  # Condition 3:\n",
        "  def filter_title(self, title):\n",
        "    flag = False\n",
        "    for let in ['j', 'q', 'z']:\n",
        "      if let in title:\n",
        "        flag = True\n",
        "    return flag\n",
        "\n",
        "  def mapper(self, _, txt_row):\n",
        "    row = txt_row.split(\"||\")\n",
        "    if row[0] != 'prog_code':\n",
        "      if self.filter_airtime(row[4]) and self.filter_genre(row[2]) and self.filter_title(row[1].lower()):\n",
        "        yield (row[1], row[2]), row[3]\n",
        "\n",
        "  def reducer(self, title_genre, dates):\n",
        "    yield title_genre, len(set(dates))\n",
        "  \n",
        "if __name__ == '__main__':\n",
        "  hw1.run()"
      ],
      "metadata": {
        "colab": {
          "base_uri": "https://localhost:8080/"
        },
        "id": "9t4ChrZJOSkJ",
        "outputId": "f586ae2c-2858-4451-d71a-309eda0387a3"
      },
      "execution_count": 40,
      "outputs": [
        {
          "output_type": "stream",
          "name": "stdout",
          "text": [
            "Overwriting hw1.py\n"
          ]
        }
      ]
    },
    {
      "cell_type": "code",
      "source": [
        "! python hw1.py < \"500k_daily_prog_data.txt\" > output.txt"
      ],
      "metadata": {
        "colab": {
          "base_uri": "https://localhost:8080/"
        },
        "id": "m4eajyqZI6fX",
        "outputId": "6f03912a-f89b-4cda-bf4f-a4bea17a8d29"
      },
      "execution_count": 41,
      "outputs": [
        {
          "output_type": "stream",
          "name": "stdout",
          "text": [
            "No configs found; falling back on auto-configuration\n",
            "No configs specified for inline runner\n",
            "Creating temp directory /tmp/hw1.root.20230517.092923.241692\n",
            "Running step 1 of 1...\n",
            "reading from STDIN\n",
            "job output is in /tmp/hw1.root.20230517.092923.241692/output\n",
            "Streaming final output from /tmp/hw1.root.20230517.092923.241692/output...\n",
            "Removing temp directory /tmp/hw1.root.20230517.092923.241692...\n"
          ]
        }
      ]
    },
    {
      "cell_type": "code",
      "source": [
        "\"\"\" Reads the output text and prints it according to the required format \"\"\"\n",
        "with open(\"output.txt\", 'r') as txt_file:\n",
        "  for line in txt_file:\n",
        "      new_line = line.split(\"\\t\")\n",
        "      sum_dates = new_line[1].strip()\n",
        "      title_genre = new_line[0].split('\"')\n",
        "      title = title_genre[1]\n",
        "      genre = title_genre[3]\n",
        "      print(f'({title}, {genre}), ({sum_dates}, {len(genre.split(\",\"))})')"
      ],
      "metadata": {
        "colab": {
          "base_uri": "https://localhost:8080/"
        },
        "id": "SMWwTcHPWZon",
        "outputId": "b0141f83-03d8-4cad-d39b-8c5a98232fba"
      },
      "execution_count": 42,
      "outputs": [
        {
          "output_type": "stream",
          "name": "stdout",
          "text": [
            "(The Gossip Queens, Talk,Entertainment), (1, 2)\n",
            "(The Hundred-Foot Journey, Spanish,Comedy-drama), (1, 2)\n",
            "(The Josh Wolf Show, Talk,Comedy), (3, 2)\n",
            "(The Late Late Show With James Corden, Talk,Comedy), (52, 2)\n",
            "(The Queen Latifah Show, Talk,Variety), (48, 2)\n",
            "(The Quest, Spanish,Action), (1, 2)\n",
            "(The Tonight Show Starring Jimmy Fallon, Talk,Comedy), (9, 2)\n",
            "(Todo Lo Que T\\u00fa Quieras, Spanish,Drama), (1, 2)\n",
            "(Town Square, Community), (1, 1)\n",
            "(Un Balazo para Quintana, Spanish,Action), (1, 2)\n",
            "(Una Mujer Para los S\\u00e1bados, Spanish,Drama), (1, 2)\n",
            "(Una Mujer Sin Amor, Spanish,Drama), (1, 2)\n",
            "(Viaje Redondo, Spanish,Drama), (1, 2)\n",
            "(WLJC Spring Telethon, Special,Community), (1, 2)\n",
            "(Walking Tall: Lone Justice, Spanish,Action), (1, 2)\n",
            "(What Would Julieanna Do?, Talk,Cooking), (1, 2)\n",
            "(\\u00bfQui\\u00e9n Paga la Cuenta?, Spanish,Comedy), (1, 2)\n",
            "(q, Talk,Entertainment,Variety), (8, 3)\n",
            "(Jimmy Kimmel Live, Talk,Comedy), (9, 2)\n",
            "(Jonathan Last on The Dadly Virtues, Special,Talk), (1, 2)\n",
            "(Juan sin Miedo, Spanish,Drama), (2, 2)\n",
            "(Judo Budapest Grand Prix 2014 Highlights, Special,Sports non-event,Martial arts), (1, 3)\n",
            "(Justice With Judge Jeanine, Talk,News), (4, 2)\n",
            "(La Maldici\\u00f3n de la Momia Azteca, Spanish,Horror), (2, 2)\n",
            "(La Masacre de los P\\u00e9rez, Spanish,Drama), (1, 2)\n",
            "(La Monja Alf\\u00e9rez, Spanish,Drama), (1, 2)\n",
            "(La Otra Mujer, Spanish,Drama), (1, 2)\n",
            "(La Oveja Negra, Spanish,Drama), (1, 2)\n",
            "(La Vida Dif\\u00edcil de una Mujer F\\u00e1cil, Spanish,Drama), (1, 2)\n",
            "(La visita que no toc\\u00f3 el timbre, Spanish,Comedy), (1, 2)\n",
            "(Lamberto Quintero, Spanish,Drama), (1, 2)\n",
            "(Last Week Tonight With John Oliver, Talk,Comedy), (8, 2)\n",
            "(Last Week Tonight With John Oliver, Talk,Comedy,Interview), (2, 3)\n",
            "(Late Night Joy, Talk), (1, 1)\n",
            "(Lejos del Mundo, Spanish,Suspense,Drama), (1, 3)\n",
            "(Life Today With James Robison, Talk,Religious), (5, 2)\n",
            "(Liquidation Channel, Community,Consumer), (12, 2)\n",
            "(Liquidation Channel, Special,Community,Consumer), (1, 3)\n",
            "(Lo Azul del Cielo, Spanish,Drama,Romance,Suspense), (1, 4)\n",
            "(Lo Mejor de Caso Cerrado, Law,Reality,Talk), (1, 3)\n",
            "(Lo Mejor de la Madre Ang\\u00e9lica, Talk,Religious), (15, 2)\n",
            "(Los Campeones Justicieros, Spanish,Action), (1, 2)\n",
            "(Los Fern\\u00e1ndez de Peralvillo, Spanish,Drama), (1, 2)\n",
            "(Los Hijos de Peralvillo, Spanish,Drama), (1, 2)\n",
            "(Los Maistros: El D\\u00eda de la Santa Cruz, Spanish,Comedy), (1, 2)\n",
            "(Los de Abajo, Spanish,Historical drama), (1, 2)\n",
            "(M\\u00e1s Vale P\\u00e1jaro en Mano, Spanish,Comedy), (1, 2)\n",
            "(MediaBuzz, News,Talk,Public affairs,Politics), (2, 4)\n",
            "(Mejor Estar Solo, Spanish,Comedy), (1, 2)\n",
            "(Mojados, Spanish,Drama), (1, 2)\n",
            "(Mojoe, Entertainment,Talk,Newsmagazine), (1, 3)\n",
            "(Music for Change: The Global Citizen, Special,Music,Community), (1, 3)\n",
            "(Operaci\\u00f3n Jaque, Spanish,Drama), (1, 2)\n",
            "(Para Usted, Jefa, Spanish,Drama), (1, 2)\n",
            "(Programa do J\\u00f4, Talk,Interview), (12, 2)\n",
            "(Q & A, News,Talk,Interview), (1, 3)\n",
            "(Q, Talk,Entertainment,Variety), (2, 3)\n",
            "(Quadriga - The International Talk Show, Talk,Public affairs,Newsmagazine), (1, 3)\n",
            "(Rosario Tijeras, Spanish,Crime drama,Romance), (1, 3)\n",
            "(Santo y Mantequilla N\\u00e1poles, Spanish,Action), (1, 2)\n",
            "(Serpiente Azteca, Spanish,Drama), (1, 2)\n",
            "(Soy el Hijo del Tah\\u00far, Spanish,Action,Drama), (1, 3)\n",
            "(St. Joe Live Presents, Community), (1, 1)\n",
            "(State of Mine: Jim Hunt Story, Special,Community), (1, 2)\n",
            "(The Daily Show With Jon Stewart, Talk,Interview,Comedy), (11, 3)\n",
            "(The Dr. Oz Show, Talk,Health), (94, 2)\n",
            "(2014 LBJ Civil Rights Summit, Community), (2, 1)\n",
            "(7 Cajas, Spanish,Action,Suspense), (1, 3)\n",
            "(Adventures of Johnny Tao: Rock, Action,Adventure,Martial arts), (1, 3)\n",
            "(Al Rojo Vivo, Talk,Newsmagazine), (4, 2)\n",
            "(Alicia Menendez Tonight, Talk,Politics), (1, 2)\n",
            "(Amor y Frijoles, Spanish,Comedy-drama), (2, 2)\n",
            "(Antiques Roadshow: In Bismarck, Collectibles,Community), (1, 2)\n",
            "(Aqu\\u00ed Nos Toc\\u00f3 Vivir, Community,Travel), (1, 2)\n",
            "(Arizona Horizon, Community), (6, 1)\n",
            "(Arizona Horizon, Community,News), (19, 2)\n",
            "(Around the Corner With John McGivern, Community), (2, 1)\n",
            "(Arquitectos de lo Imposible, Community), (1, 1)\n",
            "(Art Basel Design District Magazine, Community,Public affairs), (5, 2)\n",
            "(Big Morning Buzz Live, Talk,Entertainment,News), (2, 3)\n",
            "(Blazing Saddles, Spanish,Comedy,Western), (1, 3)\n",
            "(Check Please! Arizona, Community), (2, 1)\n",
            "(Choque de Opiniones, Talk,News,Debate), (3, 3)\n",
            "(Cilantro y Perejil, Spanish,Romance-comedy), (1, 2)\n",
            "(Cool Jobs, Community,Educational), (8, 2)\n",
            "(Coruj\\u00e3o do Esporte, Sports non-event,Talk), (1, 2)\n",
            "(Crazy People, Spanish,Comedy), (1, 2)\n",
            "(Crazy Talk, Comedy,Talk), (30, 2)\n",
            "(Crimenes De Lujuria, Spanish,Drama,Suspense), (1, 3)\n",
            "(Di\\u00e1logos en Confianza, Talk), (1, 1)\n",
            "(Dos Mojados En Apuros, Spanish,Comedy), (1, 2)\n",
            "(Dulces Navajas, Spanish,Drama), (1, 2)\n",
            "(Duro y Parejo en la Casita del Pecado, Spanish,Comedy), (1, 2)\n",
            "(Ek The Raja Ek Thi Rani, Community), (4, 1)\n",
            "(El Baile de San Juan, Spanish,Historical drama), (1, 2)\n",
            "(El Cuerpazo del Delito, Spanish,Comedy-drama), (1, 2)\n",
            "(El Efecto Tequila, Spanish,Comedy-drama), (1, 2)\n",
            "(El Esqueleto de la Se\\u00f1ora Morales, Spanish,Comedy-drama), (1, 2)\n",
            "(El Joven Ju\\u00e1rez, Spanish,Biography), (1, 2)\n",
            "(El Joven del Carrito, Spanish,Comedy), (1, 2)\n",
            "(El Oreja Rajada, Spanish,Drama), (1, 2)\n",
            "(El Palenque, Talk), (1, 1)\n",
            "(El Rediezcubrimiento de M\\u00e9xico, Spanish,Comedy-drama), (1, 2)\n",
            "(El Santos vs la Tetona Mendoza, Spanish,Comedy,Animated), (1, 3)\n",
            "(El Santos vs. la T...a Mendoza, Spanish,Comedy,Animated), (1, 3)\n",
            "(El Tejedor de Milagros, Spanish,Drama), (1, 2)\n",
            "(El Tigre de Guanajuato, Spanish,Adventure), (1, 2)\n",
            "(El Vizconde de Montecristo, Spanish,Comedy), (1, 2)\n",
            "(El mejor, Spanish,Drama), (1, 2)\n",
            "(Esos de P\\u00e9njamo, Spanish,Drama), (1, 2)\n",
            "(Estrella Sin Luz, Spanish,Drama), (1, 2)\n",
            "(Fallaste Coraz\\u00f3n, Spanish,Drama), (1, 2)\n",
            "(Fashionably Late With Rachel Zoe, Talk,Fashion), (1, 2)\n",
            "(Godzilla, Spanish,Science fiction,Action,Adventure), (1, 4)\n",
            "(Hagit - Designer Jewelry, Shopping,Talk), (1, 2)\n",
            "(Israel Tour June 2015, Community), (5, 1)\n",
            "(Izrail' Plyus Predstavlyaet, Community), (1, 1)\n",
            "(J. Edgar, Spanish,Biography,Historical drama), (1, 3)\n",
            "(Jack Holt At The River, Religious,Community), (1, 2)\n",
            "(Jade Warrior, Spanish,Action,Adventure,Martial arts), (1, 4)\n",
            "(Jagged Edge, Spanish,Crime drama), (1, 2)\n",
            "(Jayne Mansfield's Car, Spanish,Drama), (1, 2)\n",
            "(Jeepers Creepers 2, Spanish,Horror), (1, 2)\n",
            "(Jerry Springer, Talk), (109, 1)\n"
          ]
        }
      ]
    },
    {
      "cell_type": "markdown",
      "source": [
        "## **Part B**"
      ],
      "metadata": {
        "id": "ZEJKWi6McjKw"
      }
    },
    {
      "cell_type": "code",
      "source": [
        "! pip install pyspark"
      ],
      "metadata": {
        "id": "hzYvJ0rJNUAo",
        "colab": {
          "base_uri": "https://localhost:8080/"
        },
        "outputId": "2c437dd0-bcf2-40a5-8f85-a515f8ef012e"
      },
      "execution_count": 43,
      "outputs": [
        {
          "output_type": "stream",
          "name": "stdout",
          "text": [
            "Looking in indexes: https://pypi.org/simple, https://us-python.pkg.dev/colab-wheels/public/simple/\n",
            "Requirement already satisfied: pyspark in /usr/local/lib/python3.10/dist-packages (3.4.0)\n",
            "Requirement already satisfied: py4j==0.10.9.7 in /usr/local/lib/python3.10/dist-packages (from pyspark) (0.10.9.7)\n"
          ]
        }
      ]
    },
    {
      "cell_type": "code",
      "source": [
        "import pyspark\n",
        "from pyspark.sql import SparkSession\n",
        "from pyspark.mllib.random import RandomRDDs\n",
        "from pyspark.sql.types import*"
      ],
      "metadata": {
        "id": "I9R6FtckXwdt"
      },
      "execution_count": 44,
      "outputs": []
    },
    {
      "cell_type": "code",
      "source": [
        "if 'spark' in dir():\n",
        "    print(\"spark context is already created for you!\")\n",
        "else: print(\"You need to create your own SparkSession object\")"
      ],
      "metadata": {
        "colab": {
          "base_uri": "https://localhost:8080/"
        },
        "id": "--Ro-6dQXyvd",
        "outputId": "90a9d288-fcde-4da9-ff57-82c354f088ad"
      },
      "execution_count": 45,
      "outputs": [
        {
          "output_type": "stream",
          "name": "stdout",
          "text": [
            "spark context is already created for you!\n"
          ]
        }
      ]
    },
    {
      "cell_type": "code",
      "source": [
        "spark = SparkSession.builder.appName('hw1').getOrCreate()\n",
        "sc = spark.sparkContext"
      ],
      "metadata": {
        "id": "MTWVT0GCX1rc"
      },
      "execution_count": 46,
      "outputs": []
    },
    {
      "cell_type": "code",
      "source": [
        "path = \"/content/500k_daily_prog_data.csv\"\n",
        "data_rdd = sc.textFile(path)"
      ],
      "metadata": {
        "id": "Gsg8Ozj7X6Mv"
      },
      "execution_count": 47,
      "outputs": []
    },
    {
      "cell_type": "code",
      "source": [
        "\"\"\" Removing header and turns every line separated with commas to a line separated with || \"\"\"\n",
        "header = data_rdd.first()\n",
        "new_data_rdd = data_rdd.filter(lambda row: row != header)\\\n",
        "                       .map(lambda x: split_commas(x))"
      ],
      "metadata": {
        "id": "l98pQfJZYA5k"
      },
      "execution_count": 48,
      "outputs": []
    },
    {
      "cell_type": "code",
      "source": [
        "\"\"\" Adding points to score by required conditions \"\"\"\n",
        "def score_calc(genre, duration):\n",
        "  score = 0\n",
        "  if len(genre) == 1:\n",
        "    if genre[0] == \"Sitcom\":\n",
        "      score += 5\n",
        "    elif genre[0] == \"Action\" or genre[0] == \"Documentary\":\n",
        "      score += 90\n",
        "  return score + float(duration)/10\n",
        "  \n",
        "\"\"\" Filtering lines by required conditions \"\"\"\n",
        "def title_filter(title):\n",
        "  wont_watch = [\"big\", \"the\", \"bang\", \"theory\", \"community\", \"almanac\", \"met\", \"mother\",\n",
        "                \"your\", \"city\", \"anatomy\", \"game\", \"thrones\", \"guy\", \"family\", \"friends\", \"senate\"]\n",
        "  for t in wont_watch:\n",
        "    if t in title.split():\n",
        "      return False\n",
        "  return True"
      ],
      "metadata": {
        "id": "NWLfbWOmgbu5"
      },
      "execution_count": 49,
      "outputs": []
    },
    {
      "cell_type": "code",
      "source": [
        "title_genre_result = new_data_rdd.filter(lambda x: title_filter(x[1].lower()))\\\n",
        "                                 .map(lambda x: ( (x[1], x[2]), score_calc(x[2].split(\",\"), x[5]) ))\\\n",
        "                                 .reduceByKey(lambda  x, y: x + y)\\\n",
        "                                 .sortBy(lambda t: t[1], ascending=False)\\\n",
        "                                 .take(25)"
      ],
      "metadata": {
        "id": "zyGwWW_CYG3k"
      },
      "execution_count": 50,
      "outputs": []
    },
    {
      "cell_type": "code",
      "source": [
        "\"\"\" Printing output according to required format \"\"\"\n",
        "for tg in title_genre_result:\n",
        "  print(\"{\", end='')\n",
        "  print(tg[0][0], end='')\n",
        "  for g in tg[0][1].split(\",\"):\n",
        "    print(',', end=' ')\n",
        "    print(g, end='')\n",
        "  print('} |', end=' ')\n",
        "  print(tg[1])"
      ],
      "metadata": {
        "colab": {
          "base_uri": "https://localhost:8080/"
        },
        "id": "PKmEXcu2h4SS",
        "outputId": "ca33c7ce-1cd5-41ea-fa3d-c3f0a9ca5313"
      },
      "execution_count": 51,
      "outputs": [
        {
          "output_type": "stream",
          "name": "stdout",
          "text": [
            "{SIGN OFF, Special} | 30957.19999999996\n",
            "{Documentary, Documentary} | 13776.100000000013\n",
            "{Two and a Half Men, Sitcom} | 11316.400000000001\n",
            "{Everybody Loves Raymond, Sitcom} | 11220.800000000005\n",
            "{ABC World News Now, News} | 10671.000000000033\n",
            "{Mike & Molly, Sitcom} | 9951.899999999998\n",
            "{Weather Radar, Weather} | 9504.0\n",
            "{Paid Programming, Shopping} | 9086.500000000022\n",
            "{NHL Hockey, Sports event, Hockey} | 9072.0\n",
            "{Hot in Cleveland, Sitcom} | 8790.5\n",
            "{Anger Management, Sitcom} | 8503.0\n",
            "{Seinfeld, Sitcom} | 8286.7\n",
            "{Rules of Engagement, Sitcom} | 8276.600000000002\n",
            "{MLB Baseball, Sports event, Baseball} | 8269.5\n",
            "{Un Mundo Maravilloso, Documentary} | 8013.0\n",
            "{Strange Inheritance, Documentary} | 7998.0\n",
            "{Drug Wars, Documentary} | 7812.0\n",
            "{NBA Basketball, Sports event, Basketball} | 7507.5\n",
            "{Classic Arts Showcase, Art} | 7459.0\n",
            "{Local Weather, Weather} | 7098.0\n",
            "{Cougar Town, Sitcom} | 6919.700000000001\n",
            "{Smooth Jazz, Music} | 6354.0\n",
            "{Urban Beat, Music} | 6054.0\n",
            "{True Life, Documentary} | 5969.199999999999\n",
            "{MC Rap, Music} | 5913.0\n"
          ]
        }
      ]
    },
    {
      "cell_type": "code",
      "source": [],
      "metadata": {
        "id": "kuxd5DM4q_XS"
      },
      "execution_count": null,
      "outputs": []
    }
  ]
}