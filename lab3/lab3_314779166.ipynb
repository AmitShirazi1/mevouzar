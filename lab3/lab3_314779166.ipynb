{
  "cells": [
    {
      "cell_type": "code",
      "execution_count": 1,
      "metadata": {
        "colab": {
          "base_uri": "https://localhost:8080/"
        },
        "id": "mXbCC7jep6s7",
        "outputId": "73274b6a-05c9-4a92-9ea8-f73d864b28f1"
      },
      "outputs": [
        {
          "output_type": "stream",
          "name": "stdout",
          "text": [
            "Looking in indexes: https://pypi.org/simple, https://us-python.pkg.dev/colab-wheels/public/simple/\n",
            "Collecting pyspark\n",
            "  Downloading pyspark-3.4.0.tar.gz (310.8 MB)\n",
            "\u001b[2K     \u001b[90m━━━━━━━━━━━━━━━━━━━━━━━━━━━━━━━━━━━━━━━\u001b[0m \u001b[32m310.8/310.8 MB\u001b[0m \u001b[31m4.3 MB/s\u001b[0m eta \u001b[36m0:00:00\u001b[0m\n",
            "\u001b[?25h  Preparing metadata (setup.py) ... \u001b[?25l\u001b[?25hdone\n",
            "Requirement already satisfied: py4j==0.10.9.7 in /usr/local/lib/python3.10/dist-packages (from pyspark) (0.10.9.7)\n",
            "Building wheels for collected packages: pyspark\n",
            "  Building wheel for pyspark (setup.py) ... \u001b[?25l\u001b[?25hdone\n",
            "  Created wheel for pyspark: filename=pyspark-3.4.0-py2.py3-none-any.whl size=311317145 sha256=ef33712ddcbf5f94e135651fd91eda3b86c5af9c4e0db25a01d1cbc45c1fd6f0\n",
            "  Stored in directory: /root/.cache/pip/wheels/7b/1b/4b/3363a1d04368e7ff0d408e57ff57966fcdf00583774e761327\n",
            "Successfully built pyspark\n",
            "Installing collected packages: pyspark\n",
            "Successfully installed pyspark-3.4.0\n"
          ]
        }
      ],
      "source": [
        "! pip install pyspark"
      ]
    },
    {
      "cell_type": "code",
      "execution_count": 2,
      "metadata": {
        "id": "jrxQI8HBpdhk"
      },
      "outputs": [],
      "source": [
        "import pyspark\n",
        "from pyspark.sql import SparkSession\n",
        "from pyspark.mllib.random import RandomRDDs\n",
        "from pyspark.sql.types import*"
      ]
    },
    {
      "cell_type": "code",
      "execution_count": 3,
      "metadata": {
        "colab": {
          "base_uri": "https://localhost:8080/"
        },
        "id": "TBJee85KpgGP",
        "outputId": "786b8ffb-cd0c-4112-9b07-c7b9eefd5e6c"
      },
      "outputs": [
        {
          "output_type": "stream",
          "name": "stdout",
          "text": [
            "You need to create your own SparkSession object\n"
          ]
        }
      ],
      "source": [
        "if 'spark' in dir():\n",
        "    print(\"spark context is already created for you!\")\n",
        "else: print(\"You need to create your own SparkSession object\")"
      ]
    },
    {
      "cell_type": "code",
      "execution_count": 4,
      "metadata": {
        "id": "-EaJdYJTti69"
      },
      "outputs": [],
      "source": [
        "spark = SparkSession.builder.appName('lab3').getOrCreate()\n",
        "sc = spark.sparkContext"
      ]
    },
    {
      "cell_type": "code",
      "source": [
        "path = \"/content/Lab3_view_data.csv\"\n",
        "data_rdd = sc.textFile(path)"
      ],
      "metadata": {
        "id": "yFj3o7P5G5xz"
      },
      "execution_count": 5,
      "outputs": []
    },
    {
      "cell_type": "code",
      "execution_count": 9,
      "metadata": {
        "id": "7sycm7kYl9d-"
      },
      "outputs": [],
      "source": [
        "header = data_rdd.first()\n",
        "new_data_rdd = data_rdd.filter(lambda row: row != header)\\\n",
        "                       .map(lambda x: x.split(\",\"))"
      ]
    },
    {
      "cell_type": "code",
      "execution_count": 11,
      "metadata": {
        "id": "2-_WO1va3P1m"
      },
      "outputs": [],
      "source": [
        "prog_device_day_rdd = new_data_rdd.filter(lambda x: (int(x[3]) >= 200000) and (int(x[3]) < 230000))\\\n",
        "                                  .map(lambda x: ((x[1], x[2]), 1))\\\n",
        "                                  .reduceByKey(lambda  x, y: x + y)\\\n",
        "                                  .sortBy(lambda t: t[1], ascending=False)"
      ]
    },
    {
      "cell_type": "code",
      "execution_count": 14,
      "metadata": {
        "id": "saQcXVBg6HQf"
      },
      "outputs": [],
      "source": [
        "prog_device_rdd = prog_device_day_rdd.map(lambda x: (x[0][0], x[1]))\\\n",
        "                                     .reduceByKey(lambda  x, y: x + y)\\\n",
        "                                     .sortBy(lambda t: t[1], ascending=False)"
      ]
    },
    {
      "cell_type": "code",
      "execution_count": 18,
      "metadata": {
        "colab": {
          "base_uri": "https://localhost:8080/"
        },
        "id": "wdZLJ4JF_TBW",
        "outputId": "751e8dc6-aaae-4fd8-bf7d-a7333b1d038b"
      },
      "outputs": [
        {
          "output_type": "execute_result",
          "data": {
            "text/plain": [
              "14"
            ]
          },
          "metadata": {},
          "execution_count": 18
        }
      ],
      "source": [
        "dates_num = new_data_rdd.map(lambda row: row[2]).distinct().count()\n",
        "dates_num"
      ]
    },
    {
      "cell_type": "code",
      "source": [
        "average_device_rdd = prog_device_rdd.map(lambda x: (x[0], x[1]/dates_num))\\\n",
        "                        .sortBy(lambda t: t[1], ascending=False)\\\n",
        "                        .collect()"
      ],
      "metadata": {
        "id": "fAOsq-d2FKZS"
      },
      "execution_count": 21,
      "outputs": []
    },
    {
      "cell_type": "code",
      "source": [
        "for i in range(5):\n",
        "  print('\"', end='')\n",
        "  print(average_device_rdd[i][0], end='')\n",
        "  print('\"', end=' ')\n",
        "  print(average_device_rdd[i][1])"
      ],
      "metadata": {
        "colab": {
          "base_uri": "https://localhost:8080/"
        },
        "id": "1UB-nyWVS0UO",
        "outputId": "5960c1d4-08d0-4c53-a19c-994c9f10d8ba"
      },
      "execution_count": 22,
      "outputs": [
        {
          "output_type": "stream",
          "name": "stdout",
          "text": [
            "\"7.5E+14\" 97.64285714285714\n",
            "\"7.46E+14\" 11.714285714285714\n",
            "\"7.503E+14\" 9.357142857142858\n",
            "\"8.00001E+11\" 7.5\n",
            "\"8.4843E+14\" 5.5\n"
          ]
        }
      ]
    }
  ],
  "metadata": {
    "colab": {
      "provenance": []
    },
    "kernelspec": {
      "display_name": "Python 3",
      "name": "python3"
    },
    "language_info": {
      "name": "python"
    }
  },
  "nbformat": 4,
  "nbformat_minor": 0
}