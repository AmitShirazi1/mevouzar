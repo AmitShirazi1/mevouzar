{
 "cells": [
  {
   "cell_type": "markdown",
   "metadata": {
    "application/vnd.databricks.v1+cell": {
     "cellMetadata": {
      "byteLimit": 2048000,
      "rowLimit": 10000
     },
     "inputWidgets": {},
     "nuid": "a0827463-fdc0-438f-9f66-09d81fc3941d",
     "showTitle": false,
     "title": ""
    }
   },
   "source": [
    "# Read Sub Demographic Data"
   ]
  },
  {
   "cell_type": "code",
   "execution_count": 0,
   "metadata": {
    "application/vnd.databricks.v1+cell": {
     "cellMetadata": {
      "byteLimit": 2048000,
      "rowLimit": 10000
     },
     "inputWidgets": {},
     "nuid": "76e66d9c-e12d-459c-9c06-8574682606de",
     "showTitle": false,
     "title": ""
    }
   },
   "outputs": [],
   "source": [
    "from pyspark.sql.types import *\n",
    "\n",
    "import pyspark.sql.functions as F\n",
    "\n",
    "from pyspark import SparkContext\n",
    "from pyspark.sql import SparkSession\n",
    "\n",
    "spark = SparkSession.builder.appName(\"my project 2\")\\\n",
    "    .config(\"spark.kryoserializer.buffer.max\", \"512m\")\\\n",
    "    .config('spark.jars.packages', 'org.apache.spark:spark-sql-kafka-0-10_2.12:3.2.0')\\\n",
    "        .getOrCreate()\n",
    "sc = spark.sparkContext\n",
    "\n",
    "\n",
    "for_students_demo_path = \"/mnt/ddscoursedatastorage/ro/fwm-stb-data/proj_B_demographic\"\n",
    "demographic_df = spark.read.parquet(for_students_demo_path).cache()\n",
    "#display(demographic_df)"
   ]
  },
  {
   "cell_type": "code",
   "execution_count": 0,
   "metadata": {
    "application/vnd.databricks.v1+cell": {
     "cellMetadata": {
      "byteLimit": 2048000,
      "rowLimit": 10000
     },
     "inputWidgets": {},
     "nuid": "ab1c6fdc-721b-4180-86ed-da899ec9cda2",
     "showTitle": false,
     "title": ""
    }
   },
   "outputs": [
    {
     "output_type": "stream",
     "name": "stdout",
     "output_type": "stream",
     "text": [
      "Out[2]: 357721"
     ]
    }
   ],
   "source": [
    "demographic_df.count()"
   ]
  },
  {
   "cell_type": "markdown",
   "metadata": {
    "application/vnd.databricks.v1+cell": {
     "cellMetadata": {},
     "inputWidgets": {},
     "nuid": "01b9f8df-837d-4eec-bead-eb182c9af0a6",
     "showTitle": false,
     "title": ""
    }
   },
   "source": [
    "##Feature Extraction"
   ]
  },
  {
   "cell_type": "code",
   "execution_count": 0,
   "metadata": {
    "application/vnd.databricks.v1+cell": {
     "cellMetadata": {
      "byteLimit": 2048000,
      "rowLimit": 10000
     },
     "inputWidgets": {},
     "nuid": "a720aa75-1a42-4533-b162-c15f14cd76da",
     "showTitle": false,
     "title": ""
    }
   },
   "outputs": [],
   "source": [
    "from pyspark.sql.functions import *"
   ]
  },
  {
   "cell_type": "code",
   "execution_count": 0,
   "metadata": {
    "application/vnd.databricks.v1+cell": {
     "cellMetadata": {
      "byteLimit": 2048000,
      "rowLimit": 10000
     },
     "inputWidgets": {},
     "nuid": "36cbe88a-0164-4ce8-80ea-7ade69a399e8",
     "showTitle": false,
     "title": ""
    }
   },
   "outputs": [],
   "source": [
    "# calculatig the maximum household size of household in the data\n",
    "max_household_size = demographic_df.select(max(\"household_size\")).first()[0]\n",
    "\n",
    "# calculatig the maximum num adults of household in the data\n",
    "max_num_adults = demographic_df.select(max(\"num_adults\")).first()[0]\n",
    "\n",
    "# calculatig the maximum num generations of household in the data\n",
    "max_num_generations = demographic_df.select(max(\"num_generations\")).first()[0]\n",
    "\n",
    "# calculatig the maximum length residence of household in the data\n",
    "max_length_residence = demographic_df.select(max(\"length_residence\")).first()[0]\n",
    "\n",
    "# calculatig the maximum home market value of household in the data\n",
    "max_home_market_value = demographic_df.select(max(\"home_market_value\")).first()[0]\n",
    "\n",
    "# calculatig the maximum net worth of household in the data\n",
    "max_net_worth = demographic_df.select(max(\"net_worth\")).first()[0]\n",
    "\n",
    "# calculating the maximum education highest of household in the data\n",
    "demographic_df = demographic_df.withColumn(\"education_highest\", demographic_df.education_highest.cast(DoubleType())).cache()\n",
    "max_education_highest = demographic_df.select(max(\"education_highest\")).first()[0]"
   ]
  },
  {
   "cell_type": "code",
   "execution_count": 0,
   "metadata": {
    "application/vnd.databricks.v1+cell": {
     "cellMetadata": {
      "byteLimit": 2048000,
      "rowLimit": 10000
     },
     "inputWidgets": {},
     "nuid": "c34c7783-0feb-4f41-be6a-8eee2af326a4",
     "showTitle": false,
     "title": ""
    }
   },
   "outputs": [
    {
     "output_type": "stream",
     "name": "stdout",
     "output_type": "stream",
     "text": [
      "Out[5]: DataFrame[household_id: bigint, household_size: int, num_adults: int, num_generations: int, marital_status: string, race_code: string, dwelling_type: string, home_owner_status: string, length_residence: int, home_market_value: double, net_worth: double, gender_individual: string, education_highest: double]"
     ]
    }
   ],
   "source": [
    "#Normalizing the required columns\n",
    "demographic_df_normalized = demographic_df.withColumn('household_size', (col('household_size')/max_household_size))\\\n",
    "                                          .withColumn('num_adults', (col('num_adults')/max_num_adults))\\\n",
    "                                          .withColumn('num_generations', (col('num_generations')/max_num_generations))\\\n",
    "                                          .withColumn('length_residence', (col('length_residence')/max_length_residence))\\\n",
    "                                          .withColumn('home_market_value', (col('home_market_value')/max_home_market_value))\\\n",
    "                                          .withColumn('net_worth', (col('net_worth')/max_net_worth))\\\n",
    "                                          .withColumn(\"education_highest\", (col('education_highest')/max_education_highest))\\\n",
    "                                          .cache()\n",
    "demographic_df.unpersist()"
   ]
  },
  {
   "cell_type": "code",
   "execution_count": 0,
   "metadata": {
    "application/vnd.databricks.v1+cell": {
     "cellMetadata": {
      "byteLimit": 2048000,
      "rowLimit": 10000
     },
     "inputWidgets": {},
     "nuid": "9d277ed3-bd70-4d7b-a31e-12c9c9b45b46",
     "showTitle": false,
     "title": ""
    }
   },
   "outputs": [],
   "source": [
    "from pyspark.ml.feature import OneHotEncoder\n",
    "from pyspark.ml.feature import StringIndexer\n",
    "from pyspark.ml import Pipeline"
   ]
  },
  {
   "cell_type": "code",
   "execution_count": 0,
   "metadata": {
    "application/vnd.databricks.v1+cell": {
     "cellMetadata": {
      "byteLimit": 2048000,
      "rowLimit": 10000
     },
     "inputWidgets": {},
     "nuid": "90902cc9-3f15-4c3a-9966-ff05ea146af7",
     "showTitle": false,
     "title": ""
    }
   },
   "outputs": [
    {
     "output_type": "stream",
     "name": "stdout",
     "output_type": "stream",
     "text": [
      "+------------+------------------+-------------------+------------------+------------------+-----------------+---------+-----------------+----------------------+-----------------+---------------------+-------------------------+-------------------------+\n|household_id|    household_size|         num_adults|   num_generations|  length_residence|home_market_value|net_worth|education_highest|marital_status_encoded|race_code_encoded|dwelling_type_encoded|home_owner_status_encoded|gender_individual_encoded|\n+------------+------------------+-------------------+------------------+------------------+-----------------+---------+-----------------+----------------------+-----------------+---------------------+-------------------------+-------------------------+\n|          85|0.2222222222222222|0.16666666666666666|0.6666666666666666|               1.0|            0.125|     0.05|             0.25|             (3,[],[])|    (3,[0],[1.0])|        (1,[0],[1.0])|            (1,[0],[1.0])|                (1,[],[])|\n|        2073|0.1111111111111111|0.16666666666666666|0.6666666666666666|               1.0|             0.15|      0.1|             0.25|         (3,[0],[1.0])|    (3,[2],[1.0])|        (1,[0],[1.0])|            (1,[0],[1.0])|                (1,[],[])|\n|        2523|0.7777777777777778|                1.0|               1.0|               1.0|              0.1|      0.1|              0.5|         (3,[0],[1.0])|    (3,[0],[1.0])|        (1,[0],[1.0])|            (1,[0],[1.0])|            (1,[0],[1.0])|\n|        2717|0.3333333333333333| 0.3333333333333333|0.6666666666666666|0.7333333333333333|            0.125|      0.2|             0.75|         (3,[1],[1.0])|    (3,[0],[1.0])|        (1,[0],[1.0])|            (1,[0],[1.0])|            (1,[0],[1.0])|\n|        3364|0.2222222222222222| 0.3333333333333333|0.6666666666666666|               1.0|              0.1|      0.1|             0.25|         (3,[0],[1.0])|    (3,[0],[1.0])|        (1,[0],[1.0])|            (1,[0],[1.0])|            (1,[0],[1.0])|\n|        4046|0.4444444444444444|                0.5|               1.0|               0.4|            0.075|     0.05|             0.25|         (3,[0],[1.0])|    (3,[0],[1.0])|        (1,[0],[1.0])|            (1,[0],[1.0])|                (1,[],[])|\n|        4303|0.1111111111111111|0.16666666666666666|0.3333333333333333|               1.0|             0.15|      0.2|             0.25|         (3,[1],[1.0])|    (3,[0],[1.0])|        (1,[0],[1.0])|            (1,[0],[1.0])|            (1,[0],[1.0])|\n|        4559|0.3333333333333333| 0.3333333333333333|0.6666666666666666|               0.8|            0.175|      0.2|              0.5|         (3,[1],[1.0])|    (3,[0],[1.0])|        (1,[0],[1.0])|            (1,[0],[1.0])|                (1,[],[])|\n|        5277|0.3333333333333333| 0.3333333333333333|0.6666666666666666|               1.0|            0.125|     0.02|              0.5|         (3,[0],[1.0])|    (3,[0],[1.0])|        (1,[0],[1.0])|                (1,[],[])|            (1,[0],[1.0])|\n|        5440|0.1111111111111111|0.16666666666666666|0.3333333333333333|0.5333333333333333|            0.225|      0.2|             0.25|         (3,[1],[1.0])|    (3,[0],[1.0])|        (1,[0],[1.0])|            (1,[0],[1.0])|                (1,[],[])|\n|        6856|0.4444444444444444| 0.3333333333333333|0.6666666666666666|               0.6|            0.125|      0.2|             0.25|         (3,[2],[1.0])|    (3,[0],[1.0])|        (1,[0],[1.0])|            (1,[0],[1.0])|                (1,[],[])|\n|        6991|0.1111111111111111|0.16666666666666666|0.6666666666666666|               1.0|            0.125|      0.1|             0.25|         (3,[0],[1.0])|    (3,[0],[1.0])|        (1,[0],[1.0])|            (1,[0],[1.0])|            (1,[0],[1.0])|\n|        7605|0.5555555555555556| 0.6666666666666666|               1.0|               1.0|              0.2|      0.2|             0.25|         (3,[0],[1.0])|    (3,[0],[1.0])|        (1,[0],[1.0])|            (1,[0],[1.0])|                (1,[],[])|\n|        8627|0.2222222222222222| 0.3333333333333333|0.3333333333333333|               1.0|              0.2|      0.2|              0.5|         (3,[0],[1.0])|    (3,[0],[1.0])|        (1,[0],[1.0])|            (1,[0],[1.0])|                (1,[],[])|\n|        8953|0.4444444444444444|                0.5|               1.0|               1.0|             0.05|      0.2|             0.25|         (3,[2],[1.0])|    (3,[0],[1.0])|        (1,[0],[1.0])|            (1,[0],[1.0])|                (1,[],[])|\n|        9552|0.8888888888888888| 0.6666666666666666|               1.0|0.9333333333333333|            0.175|      0.2|             0.25|         (3,[0],[1.0])|    (3,[0],[1.0])|        (1,[0],[1.0])|            (1,[0],[1.0])|                (1,[],[])|\n|        9663|0.2222222222222222| 0.3333333333333333|0.3333333333333333|0.8666666666666667|            0.025|     0.05|             0.25|         (3,[0],[1.0])|    (3,[1],[1.0])|        (1,[0],[1.0])|            (1,[0],[1.0])|                (1,[],[])|\n|       10326|0.4444444444444444| 0.6666666666666666|0.6666666666666666|0.8666666666666667|             0.15|      0.2|             0.25|         (3,[0],[1.0])|    (3,[0],[1.0])|        (1,[0],[1.0])|            (1,[0],[1.0])|                (1,[],[])|\n|       10843|0.5555555555555556| 0.3333333333333333|0.6666666666666666|               1.0|            0.225|      0.2|              0.5|         (3,[0],[1.0])|    (3,[0],[1.0])|        (1,[0],[1.0])|            (1,[0],[1.0])|            (1,[0],[1.0])|\n|       11586|0.2222222222222222|0.16666666666666666|0.6666666666666666|0.3333333333333333|              0.3|      0.1|             0.25|         (3,[1],[1.0])|    (3,[0],[1.0])|        (1,[0],[1.0])|            (1,[0],[1.0])|            (1,[0],[1.0])|\n+------------+------------------+-------------------+------------------+------------------+-----------------+---------+-----------------+----------------------+-----------------+---------------------+-------------------------+-------------------------+\nonly showing top 20 rows\n\n"
     ]
    }
   ],
   "source": [
    "demographic_df_encoded = demographic_df_normalized.cache()\n",
    "# List of categorical columns to index later and than present them as a feature vector\n",
    "categorical_columns = [\"marital_status\", \"race_code\", \"dwelling_type\", \"home_owner_status\", \"gender_individual\"]\n",
    "# Indexing each categorical column and insert the indexed values as a new column with an 'index' suffix in its name\n",
    "indexed_columns = [column + \"_index\" for column in categorical_columns]\n",
    "\n",
    "indexers = [StringIndexer(inputCol=column,\n",
    "                          outputCol=column + \"_index\") for column in categorical_columns]\n",
    "# Representing the categorical indexed columns as a feature vector                           \n",
    "one_hot_encoders = [OneHotEncoder(inputCol=column + \"_index\",\n",
    "                                  outputCol=column + \"_encoded\") for column in categorical_columns]\n",
    "# Making sure all actions happen in the required order\n",
    "encoding_pipeline = Pipeline(stages=indexers + one_hot_encoders)\n",
    "model = encoding_pipeline.fit(demographic_df_encoded)\n",
    "demographic_df_encoded = model.transform(demographic_df_encoded).cache()\n",
    "\n",
    "# Dropping unused columns to make running time more efficient\n",
    "demographic_df_encoded = demographic_df_encoded.drop(*(categorical_columns + indexed_columns)).cache()\n",
    "\n",
    "demographic_df_encoded.show()"
   ]
  },
  {
   "cell_type": "code",
   "execution_count": 0,
   "metadata": {
    "application/vnd.databricks.v1+cell": {
     "cellMetadata": {
      "byteLimit": 2048000,
      "rowLimit": 10000
     },
     "inputWidgets": {},
     "nuid": "c00fb13f-a0e4-47fa-a4c8-406f2ee76b42",
     "showTitle": false,
     "title": ""
    }
   },
   "outputs": [
    {
     "output_type": "stream",
     "name": "stdout",
     "output_type": "stream",
     "text": [
      "+------------+--------------------------------------------------------------------------------------------------------------------------------+\n|household_id|features                                                                                                                        |\n+------------+--------------------------------------------------------------------------------------------------------------------------------+\n|85          |[0.2222222222222222,0.16666666666666666,0.6666666666666666,1.0,0.125,0.05,0.25,0.0,0.0,0.0,1.0,0.0,0.0,1.0,1.0,0.0]             |\n|2073        |[0.1111111111111111,0.16666666666666666,0.6666666666666666,1.0,0.15,0.1,0.25,1.0,0.0,0.0,0.0,0.0,1.0,1.0,1.0,0.0]               |\n|2523        |[0.7777777777777778,1.0,1.0,1.0,0.1,0.1,0.5,1.0,0.0,0.0,1.0,0.0,0.0,1.0,1.0,1.0]                                                |\n|2717        |[0.3333333333333333,0.3333333333333333,0.6666666666666666,0.7333333333333333,0.125,0.2,0.75,0.0,1.0,0.0,1.0,0.0,0.0,1.0,1.0,1.0]|\n|3364        |[0.2222222222222222,0.3333333333333333,0.6666666666666666,1.0,0.1,0.1,0.25,1.0,0.0,0.0,1.0,0.0,0.0,1.0,1.0,1.0]                 |\n|4046        |[0.4444444444444444,0.5,1.0,0.4,0.075,0.05,0.25,1.0,0.0,0.0,1.0,0.0,0.0,1.0,1.0,0.0]                                            |\n|4303        |[0.1111111111111111,0.16666666666666666,0.3333333333333333,1.0,0.15,0.2,0.25,0.0,1.0,0.0,1.0,0.0,0.0,1.0,1.0,1.0]               |\n+------------+--------------------------------------------------------------------------------------------------------------------------------+\nonly showing top 7 rows\n\n"
     ]
    }
   ],
   "source": [
    "from pyspark.ml.feature import VectorAssembler\n",
    "\n",
    "# assigning\n",
    "demographic_df_feature_vector = demographic_df_encoded.cache()\n",
    "demographic_df_encoded.unpersist()\n",
    "\n",
    "# the columns needed to be presented in the feature vector later\n",
    "fields = demographic_df_feature_vector.drop(\"household_id\").columns\n",
    "\n",
    "# Representing the fields (specified above) as a feature vector                           \n",
    "assembler = VectorAssembler(\n",
    "    inputCols=fields,\n",
    "    outputCol=\"features\")\n",
    "\n",
    "demographic_df_feature_vector = assembler.transform(demographic_df_feature_vector).cache()\n",
    "demographic_df_feature_vector.select(\"household_id\", \"features\").show(7, truncate=False)"
   ]
  },
  {
   "cell_type": "code",
   "execution_count": 0,
   "metadata": {
    "application/vnd.databricks.v1+cell": {
     "cellMetadata": {
      "byteLimit": 2048000,
      "rowLimit": 10000
     },
     "inputWidgets": {},
     "nuid": "173b8262-1026-4cea-9197-da499cd95509",
     "showTitle": false,
     "title": ""
    }
   },
   "outputs": [
    {
     "output_type": "stream",
     "name": "stdout",
     "output_type": "stream",
     "text": [
      "+------------+--------------------------------------------+\n|household_id|pca                                         |\n+------------+--------------------------------------------+\n|85          |[-0.35625542326615856,-0.11097025338253631] |\n|2073        |[-1.0925316168664254,0.12397733233143128]   |\n|2523        |[-1.4149098090986307,-0.9701798366702089]   |\n|2717        |[0.06329368821084108,-1.158369672110097]    |\n|3364        |[-1.2929454215296108,-0.9714139901152653]   |\n|4046        |[-1.1192228102668804,-0.0063753503650831895]|\n|4303        |[0.07476265653874331,-1.1529793790408362]   |\n+------------+--------------------------------------------+\nonly showing top 7 rows\n\n"
     ]
    }
   ],
   "source": [
    "from pyspark.ml.functions import vector_to_array\n",
    "from pyspark.ml.feature import PCA\n",
    "\n",
    "# assigning\n",
    "demographic_df_pca = demographic_df_feature_vector.cache()\n",
    "demographic_df_feature_vector.unpersist()\n",
    "\n",
    "# Reducting dimension of feature vector to 2\n",
    "# Allows us to represent the data in a low dimensional representation with a good approximation of the original data \n",
    "pca = PCA().setInputCol(\"features\")\\\n",
    "           .setOutputCol(\"pca\")\\\n",
    "           .setK(2)\n",
    "demographic_df_pca = pca.fit(demographic_df_pca).transform(demographic_df_pca).cache()\n",
    "\n",
    "demographic_df_pca.select(\"household_id\", \"pca\").show(7, truncate=False)"
   ]
  },
  {
   "cell_type": "code",
   "execution_count": 0,
   "metadata": {
    "application/vnd.databricks.v1+cell": {
     "cellMetadata": {
      "byteLimit": 2048000,
      "rowLimit": 10000
     },
     "inputWidgets": {},
     "nuid": "96bc1920-2cdf-45b3-ae14-8747f6e08fdd",
     "showTitle": false,
     "title": ""
    }
   },
   "outputs": [],
   "source": [
    "# Separating the 2 components of the low dimensional representation of the feature vector to 2 different columns\n",
    "demographic_df_pca = (demographic_df_pca\n",
    "                        .withColumn(\"axis\", vector_to_array(\"pca\"))\n",
    "                        .select(fields + [col(\"axis\")[i] for i in range(2)])).cache()"
   ]
  },
  {
   "cell_type": "code",
   "execution_count": 0,
   "metadata": {
    "application/vnd.databricks.v1+cell": {
     "cellMetadata": {
      "byteLimit": 2048000,
      "rowLimit": 10000
     },
     "inputWidgets": {},
     "nuid": "7c39bc8f-bffc-41ba-afdf-e35f9f6e39e4",
     "showTitle": false,
     "title": ""
    }
   },
   "outputs": [
    {
     "output_type": "stream",
     "name": "stdout",
     "output_type": "stream",
     "text": [
      "/databricks/spark/python/pyspark/sql/pandas/conversion.py:119: UserWarning: toPandas attempted Arrow optimization because 'spark.sql.execution.arrow.pyspark.enabled' is set to true; however, failed by the reason below:\n  Unable to convert the field marital_status_encoded. If this column is not necessary, you may consider dropping it or converting to primitive type before the conversion.\nDirect cause: Unsupported type in conversion to Arrow: VectorUDT()\nAttempting non-optimization as 'spark.sql.execution.arrow.pyspark.fallback.enabled' is set to true.\n  warn(msg)\nOut[41]: DataFrame[household_size: double, num_adults: double, num_generations: double, length_residence: double, home_market_value: double, net_worth: double, education_highest: double, marital_status_encoded: vector, race_code_encoded: vector, dwelling_type_encoded: vector, home_owner_status_encoded: vector, gender_individual_encoded: vector, x: double, y: double]"
     ]
    },
    {
     "output_type": "display_data",
     "data": {
      "image/png": "[encoded data removed]"
     },
     "metadata": {
      "application/vnd.databricks.v1+output": {
       "addedWidgets": {},
       "arguments": {},
       "data": "data:image/png;base64,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\n",
       "datasetInfos": [],
       "metadata": {},
       "removedWidgets": [],
       "type": "image"
      }
     },
     "output_type": "display_data"
    }
   ],
   "source": [
    "import pandas as pd\n",
    "\n",
    "# Renaming the new 2 columns of the separated components of the pca result as x and y correspondingly\n",
    "demographic_df_plot = demographic_df_pca.withColumnRenamed('axis[0]', 'x')\\\n",
    "                                        .withColumnRenamed('axis[1]', 'y').cache()\n",
    "demographic_df_pca.unpersist()\n",
    "\n",
    "# Plotting the results of the pca \n",
    "# Allows us to visual analysing the created clusters\n",
    "demographic_df_plot.toPandas().plot.scatter(x='x', y='y')\n",
    "demographic_df_plot.unpersist()"
   ]
  },
  {
   "cell_type": "markdown",
   "metadata": {
    "application/vnd.databricks.v1+cell": {
     "cellMetadata": {},
     "inputWidgets": {},
     "nuid": "28a914f5-6691-4c29-a15e-063e928f7dac",
     "showTitle": false,
     "title": ""
    }
   },
   "source": [
    "##Clustering"
   ]
  },
  {
   "cell_type": "code",
   "execution_count": 0,
   "metadata": {
    "application/vnd.databricks.v1+cell": {
     "cellMetadata": {
      "byteLimit": 2048000,
      "rowLimit": 10000
     },
     "inputWidgets": {},
     "nuid": "d5d9b73a-429b-4c91-9133-ca313f87d144",
     "showTitle": false,
     "title": ""
    }
   },
   "outputs": [
    {
     "output_type": "stream",
     "name": "stdout",
     "output_type": "stream",
     "text": [
      "Out[12]: KMeansModel: uid=KMeans_ea254c8a53d3, k=6, distanceMeasure=euclidean, numFeatures=16"
     ]
    }
   ],
   "source": [
    "from pyspark.ml.clustering import KMeans\n",
    "\n",
    "demographic_df_feature_vector.cache()\n",
    "\n",
    "# Clustering the data according to the feature vector (training the algorithm on the demographic_df_feature_vector data) into 6 clusters and assigning the cluster for each household in a new column named cluster, using Kmeans algorithm\n",
    "km = KMeans().setK(6).setSeed(3)\n",
    "kmModel = km.fit(demographic_df_feature_vector)\n",
    "kmModel.setFeaturesCol(\"features\")\n",
    "kmModel.setPredictionCol(\"cluster\")"
   ]
  },
  {
   "cell_type": "code",
   "execution_count": 0,
   "metadata": {
    "application/vnd.databricks.v1+cell": {
     "cellMetadata": {
      "byteLimit": 2048000,
      "rowLimit": 10000
     },
     "inputWidgets": {},
     "nuid": "4e661e16-e1a3-4323-a596-04dbccce0c6b",
     "showTitle": false,
     "title": ""
    }
   },
   "outputs": [
    {
     "output_type": "stream",
     "name": "stdout",
     "output_type": "stream",
     "text": [
      "Out[13]: DataFrame[household_id: bigint, household_size: double, num_adults: double, num_generations: double, length_residence: double, home_market_value: double, net_worth: double, education_highest: double, marital_status_encoded: vector, race_code_encoded: vector, dwelling_type_encoded: vector, home_owner_status_encoded: vector, gender_individual_encoded: vector, features: vector]"
     ]
    }
   ],
   "source": [
    "# Performing the Kmeans algorithm to assign clusters to each household\n",
    "demographic_df_kmeans = kmModel.transform(demographic_df_feature_vector).cache()\n",
    "demographic_df_feature_vector.unpersist()"
   ]
  },
  {
   "cell_type": "code",
   "execution_count": 0,
   "metadata": {
    "application/vnd.databricks.v1+cell": {
     "cellMetadata": {
      "byteLimit": 2048000,
      "rowLimit": 10000
     },
     "inputWidgets": {},
     "nuid": "2933929c-6cac-42a2-ae5f-3b0780ba817d",
     "showTitle": false,
     "title": ""
    }
   },
   "outputs": [
    {
     "output_type": "stream",
     "name": "stdout",
     "output_type": "stream",
     "text": [
      "+------------+--------------------------------------------------------------------------------------------------------------------------------+-------+------------------+\n|household_id|features                                                                                                                        |cluster|distance          |\n+------------+--------------------------------------------------------------------------------------------------------------------------------+-------+------------------+\n|85          |[0.2222222222222222,0.16666666666666666,0.6666666666666666,1.0,0.125,0.05,0.25,0.0,0.0,0.0,1.0,0.0,0.0,1.0,1.0,0.0]             |0      |0.9986709922036282|\n|2073        |[0.1111111111111111,0.16666666666666666,0.6666666666666666,1.0,0.15,0.1,0.25,1.0,0.0,0.0,0.0,0.0,1.0,1.0,1.0,0.0]               |3      |0.8343119833761155|\n|2523        |[0.7777777777777778,1.0,1.0,1.0,0.1,0.1,0.5,1.0,0.0,0.0,1.0,0.0,0.0,1.0,1.0,1.0]                                                |1      |0.9026956010989436|\n|2717        |[0.3333333333333333,0.3333333333333333,0.6666666666666666,0.7333333333333333,0.125,0.2,0.75,0.0,1.0,0.0,1.0,0.0,0.0,1.0,1.0,1.0]|2      |0.6860553339107255|\n|3364        |[0.2222222222222222,0.3333333333333333,0.6666666666666666,1.0,0.1,0.1,0.25,1.0,0.0,0.0,1.0,0.0,0.0,1.0,1.0,1.0]                 |1      |0.3251117743137002|\n|4046        |[0.4444444444444444,0.5,1.0,0.4,0.075,0.05,0.25,1.0,0.0,0.0,1.0,0.0,0.0,1.0,1.0,0.0]                                            |0      |0.6022088823142537|\n|4303        |[0.1111111111111111,0.16666666666666666,0.3333333333333333,1.0,0.15,0.2,0.25,0.0,1.0,0.0,1.0,0.0,0.0,1.0,1.0,1.0]               |2      |0.7241865099609797|\n+------------+--------------------------------------------------------------------------------------------------------------------------------+-------+------------------+\nonly showing top 7 rows\n\n"
     ]
    }
   ],
   "source": [
    "from pyspark.ml.linalg import Vectors\n",
    "\n",
    "# Extracting the final cluster's centroids\n",
    "centroids = kmModel.clusterCenters()\n",
    "\n",
    "# Calculating the distance between each household and its cluster's centroid (according to the household feature vector) \n",
    "dist_udf = F.udf(lambda features, cluster: float(Vectors.squared_distance(features, centroids[cluster])) ** 0.5)\n",
    "\n",
    "# Calculating the distance specified above for each household\n",
    "demographic_df_kmeans = demographic_df_kmeans.withColumn(\"distance\", dist_udf(F.col('features'), F.col('cluster'))).cache()\n",
    "\n",
    "demographic_df_kmeans.select(\"household_id\", \"features\", \"cluster\", \"distance\").show(7, truncate=False)\n"
   ]
  },
  {
   "cell_type": "code",
   "execution_count": 0,
   "metadata": {
    "application/vnd.databricks.v1+cell": {
     "cellMetadata": {
      "byteLimit": 2048000,
      "rowLimit": 10000
     },
     "inputWidgets": {},
     "nuid": "2d29ad4a-c5ac-46bb-8246-69bcaa808f02",
     "showTitle": false,
     "title": ""
    }
   },
   "outputs": [],
   "source": [
    "from pyspark.sql.window import Window\n",
    "\n",
    "# Partition the data by its clusters and in each cluster window sorting the households according to the distance we calculated earlier in acsending order\n",
    "windowSpec = Window.partitionBy(\"cluster\").orderBy(\"distance\")\n",
    "# Adding the index of the row of each entry/household for each window (cluster)\n",
    "demographic_df_kmeans_window = demographic_df_kmeans.withColumn(\"row_number\", row_number().over(windowSpec)).cache()\n",
    "demographic_df_kmeans.unpersist()\n",
    "\n",
    "# Getting the thirds and seventeenths subsets by taking each third and seventeenths row for each window (cluster) correspondingly separatly\n",
    "thirds_subset = demographic_df_kmeans_window.where((col(\"row_number\") % 3) == 0).cache()\n",
    "seventeenths_subset = demographic_df_kmeans_window.where((col(\"row_number\") % 17) == 0).cache()"
   ]
  },
  {
   "cell_type": "code",
   "execution_count": 0,
   "metadata": {
    "application/vnd.databricks.v1+cell": {
     "cellMetadata": {
      "byteLimit": 2048000,
      "rowLimit": 10000
     },
     "inputWidgets": {},
     "nuid": "2495e80e-6aa5-4ca2-9504-f944e3b15987",
     "showTitle": false,
     "title": ""
    }
   },
   "outputs": [
    {
     "output_type": "stream",
     "name": "stdout",
     "output_type": "stream",
     "text": [
      "+------------+-------+-------------------+----------+\n|household_id|cluster|           distance|row_number|\n+------------+-------+-------------------+----------+\n|       21444|      1|0.18475593031097687|         3|\n|     2818306|      1|0.18526527964914238|         6|\n|     1443732|      1|0.18526527964914238|         9|\n|     3996824|      1| 0.1853431462289361|        12|\n|     3777986|      1| 0.1853431462289361|        15|\n|     2502868|      1| 0.1853431462289361|        18|\n|     2167101|      1|0.18585088622990523|        21|\n|     4028555|      1|0.18585088622990523|        24|\n|     3800211|      1|0.18760672622982932|        27|\n|     2797025|      1|0.18760672622982932|        30|\n|     2274960|      1|0.18760672622982932|        33|\n|     2233668|      1|0.18760672622982932|        36|\n|     3791317|      1|0.18818504668448124|        39|\n|     3994551|      1|0.18818504668448124|        42|\n|     2146729|      1|0.18818504668448124|        45|\n|     3617208|      1|0.18910762518173438|        48|\n|     2814052|      1| 0.1896813695934358|        51|\n|     4164515|      1| 0.1896813695934358|        54|\n|     2028881|      1| 0.1936693410642834|        57|\n|       92919|      1| 0.1936693410642834|        60|\n+------------+-------+-------------------+----------+\nonly showing top 20 rows\n\nOut[16]: DataFrame[household_id: bigint, household_size: double, num_adults: double, num_generations: double, length_residence: double, home_market_value: double, net_worth: double, education_highest: double, marital_status_encoded: vector, race_code_encoded: vector, dwelling_type_encoded: vector, home_owner_status_encoded: vector, gender_individual_encoded: vector, features: vector, cluster: int, distance: string, row_number: int]"
     ]
    }
   ],
   "source": [
    "demographic_df_kmeans_window.unpersist()\n",
    "thirds_subset.select(\"household_id\", \"cluster\", \"distance\", \"row_number\").show()\n",
    "thirds_subset.unpersist()"
   ]
  },
  {
   "cell_type": "code",
   "execution_count": 0,
   "metadata": {
    "application/vnd.databricks.v1+cell": {
     "cellMetadata": {
      "byteLimit": 2048000,
      "rowLimit": 10000
     },
     "inputWidgets": {},
     "nuid": "fd31a11b-d59c-41d1-a7de-284df64824f9",
     "showTitle": false,
     "title": ""
    }
   },
   "outputs": [
    {
     "output_type": "stream",
     "name": "stdout",
     "output_type": "stream",
     "text": [
      "+------------+-------+-------------------+----------+\n|household_id|cluster|           distance|row_number|\n+------------+-------+-------------------+----------+\n|        8972|      1| 0.1853431462289361|        17|\n|     3939052|      1|0.18760672622982932|        34|\n|     2814052|      1| 0.1896813695934358|        51|\n|     1465901|      1| 0.1942296108662116|        68|\n|     3802857|      1|0.19608713359186963|        85|\n|     2828482|      1|0.19674303987002664|       102|\n|     1337137|      1|0.19729458128966731|       119|\n|     2851208|      1|0.19894944991252952|       136|\n|     1926031|      1| 0.2009069980480161|       153|\n|     3175740|      1| 0.2047040768781287|       170|\n|     1600418|      1| 0.2050919831215171|       187|\n|     2793320|      1| 0.2056211312333509|       204|\n|     2223363|      1|0.20682557620789077|       221|\n|     1577978|      1|0.20735030031975427|       238|\n|     3055935|      1|0.20818640577924993|       255|\n|     3626930|      1|0.20891809129488123|       272|\n|      106345|      1|0.21079197024981283|       289|\n|      115234|      1|0.21233284938675112|       306|\n|     2765482|      1| 0.2123401726365636|       323|\n|     2754197|      1| 0.2130824724981291|       340|\n+------------+-------+-------------------+----------+\nonly showing top 20 rows\n\nOut[17]: DataFrame[household_id: bigint, household_size: double, num_adults: double, num_generations: double, length_residence: double, home_market_value: double, net_worth: double, education_highest: double, marital_status_encoded: vector, race_code_encoded: vector, dwelling_type_encoded: vector, home_owner_status_encoded: vector, gender_individual_encoded: vector, features: vector, cluster: int, distance: string, row_number: int]"
     ]
    }
   ],
   "source": [
    "seventeenths_subset.select(\"household_id\", \"cluster\", \"distance\", \"row_number\").show()\n",
    "seventeenths_subset.unpersist()"
   ]
  },
  {
   "cell_type": "markdown",
   "metadata": {
    "application/vnd.databricks.v1+cell": {
     "cellMetadata": {},
     "inputWidgets": {},
     "nuid": "9334daa0-e0fd-4b27-8165-dd442d7cbaaf",
     "showTitle": false,
     "title": ""
    }
   },
   "source": [
    "#Visual Analysis"
   ]
  },
  {
   "cell_type": "markdown",
   "metadata": {
    "application/vnd.databricks.v1+cell": {
     "cellMetadata": {},
     "inputWidgets": {},
     "nuid": "eadeffaa-b6ec-477d-b352-8b2c8dfb3638",
     "showTitle": false,
     "title": ""
    }
   },
   "source": [
    "# Read Static viewing data from Kafka"
   ]
  },
  {
   "cell_type": "code",
   "execution_count": 0,
   "metadata": {
    "application/vnd.databricks.v1+cell": {
     "cellMetadata": {
      "byteLimit": 2048000,
      "rowLimit": 10000
     },
     "inputWidgets": {},
     "nuid": "8079eb06-8080-4416-92b7-e3473bfcb2a7",
     "showTitle": false,
     "title": ""
    }
   },
   "outputs": [
    {
     "output_type": "stream",
     "name": "stdout",
     "output_type": "stream",
     "text": [
      "Out[18]: DataFrame[key: binary, value: binary, topic: string, partition: int, offset: bigint, timestamp: timestamp, timestampType: int]"
     ]
    }
   ],
   "source": [
    "from pyspark.sql.functions import *\n",
    "kafka_server = \"kafka96224.eastus.cloudapp.azure.com:29092\" \n",
    "topic='viewstatic'\n",
    "OFFSETS_PER_TRIGGER = 50000\n",
    "SCHEMA = \"device_id STRING, event_date STRING, event_time STRING, station_num STRING, prog_code STRING, household_id LONG\"\n",
    "\n",
    "static_df = spark.read\\\n",
    "                  .format(\"kafka\")\\\n",
    "                  .option(\"kafka.bootstrap.servers\", kafka_server)\\\n",
    "                  .option(\"subscribe\", topic)\\\n",
    "                  .option(\"startingOffsets\", \"earliest\")\\\n",
    "                  .option(\"failOnDataLoss\",False)\\\n",
    "                  .load().cache()\n",
    "\n",
    "static_view_data = static_df.select(from_csv(decode(\"value\", \"US-ASCII\"), schema=SCHEMA).alias(\"value\"))\\\n",
    "                            .select(\"value.*\").na.drop().cache()\n",
    "static_df.unpersist()\n",
    "# display(static_view_data)"
   ]
  },
  {
   "cell_type": "code",
   "execution_count": 0,
   "metadata": {
    "application/vnd.databricks.v1+cell": {
     "cellMetadata": {
      "byteLimit": 2048000,
      "rowLimit": 10000
     },
     "inputWidgets": {},
     "nuid": "686b6e16-5d00-4ecd-b573-7af73e2bc8e7",
     "showTitle": false,
     "title": ""
    }
   },
   "outputs": [
    {
     "output_type": "stream",
     "name": "stdout",
     "output_type": "stream",
     "text": [
      "Out[19]: 7223153"
     ]
    }
   ],
   "source": [
    "static_view_data.count()"
   ]
  },
  {
   "cell_type": "markdown",
   "metadata": {
    "application/vnd.databricks.v1+cell": {
     "cellMetadata": {},
     "inputWidgets": {},
     "nuid": "fe385b71-d34c-41b5-a13c-2190ab5d10ad",
     "showTitle": false,
     "title": ""
    }
   },
   "source": [
    "## Cluster’s Viewing Analysis"
   ]
  },
  {
   "cell_type": "code",
   "execution_count": 0,
   "metadata": {
    "application/vnd.databricks.v1+cell": {
     "cellMetadata": {
      "byteLimit": 2048000,
      "rowLimit": 10000
     },
     "inputWidgets": {},
     "nuid": "6dfa2bf8-b3df-4056-93c7-c8cae0d01b50",
     "showTitle": false,
     "title": ""
    }
   },
   "outputs": [
    {
     "output_type": "stream",
     "name": "stdout",
     "output_type": "stream",
     "text": [
      "+------------+------------+-----------+--------------+-------+----------+\n|household_id|   device_id|station_num|     prog_code|cluster|row_number|\n+------------+------------+-----------+--------------+-------+----------+\n|     1496400|000000033449|      59444|MV000963020000|      2|      9963|\n|     1477911|000000033633|      16374|EP018001900333|      1|     35048|\n|     1464390|0000000792ce|      60179|EP018001900333|      2|     12174|\n|     1491604|00000007a06a|      19746|SH000299490000|      1|     17610|\n|     1468157|00000007a196|      61812|EP002654380201|      4|      6204|\n|     3250955|00000007a236|      11207|EP003169780032|      4|     11572|\n|     1462990|0000000a0707|      79051|EP006331691288|      0|     57108|\n|     1478303|0000000cb631|      21247|EP005927330074|      0|     54232|\n|     1492519|0000000dee65|      10142|EP003118650048|      1|     81762|\n|     1479402|0000000e5290|      11066|EP000548690053|      5|     12327|\n|     3092685|0000001095d5|      10153|EP010221680112|      0|     94023|\n|     1455470|000000178c84|      19600|EP014284730643|      0|     42550|\n|     1510764|0000001b3149|      10989|EP002654380201|      2|     23909|\n|     1450476|0000001d2023|      58718|SH018377390000|      1|     88717|\n|     1478486|0000001fffd3|      67567|SH011815290000|      2|      8842|\n|     1496452|0000002276ca|      16123|EP001151270222|      5|      4628|\n|     1472737|000000227923|      16123|EP001151270222|      0|     90408|\n|     1455695|000000232ad3|      36212|SH006609190000|      0|     54517|\n|     1476706|0000002334c7|      44366|EP000191775951|      1|     67389|\n|     1473431|0000002cfa80|      14321|MV001811990000|      1|      3973|\n+------------+------------+-----------+--------------+-------+----------+\nonly showing top 20 rows\n\n"
     ]
    }
   ],
   "source": [
    "# Getting only the relevant fields from the given dataframe\n",
    "static_view_data_relevant_info = static_view_data.drop(\"event_date\", \"event_time\").cache()\n",
    "static_view_data.unpersist()\n",
    "\n",
    "# Dividing the given viewing events to clusters according to the k-means clustering we did earlier\n",
    "viewing_events = static_view_data_relevant_info\\\n",
    "                                 .join(demographic_df_kmeans_window.select(\"household_id\", \"cluster\", \"row_number\"),\n",
    "                                        on='household_id', how='inner')\\\n",
    "                                 .cache()\n",
    "viewing_events.show()"
   ]
  },
  {
   "cell_type": "code",
   "execution_count": 0,
   "metadata": {
    "application/vnd.databricks.v1+cell": {
     "cellMetadata": {
      "byteLimit": 2048000,
      "rowLimit": 10000
     },
     "inputWidgets": {},
     "nuid": "59e0b152-b526-4132-bb73-b41237ab0a70",
     "showTitle": false,
     "title": ""
    }
   },
   "outputs": [],
   "source": [
    "# Calculate the percentage of views in every station w.r.t the given dataframe\n",
    "def count_viewing_events(df):\n",
    "    num_rows = df.count()\n",
    "    return df.groupBy('station_num', 'general_percent_events').agg(((count(col('household_id'))/num_rows)*100)\\\n",
    "                                        .alias(\"percent_num_events\"))\n",
    "    \n",
    "# Calculating the diff_rank value for each station as defined in bullet no. 4\n",
    "def substruct_columns(df, col1='percent_num_events', col2='general_percent_events'):\n",
    "    df.withColumn('diff_rank', df[col1]-df[col2]).drop(col1, col2).orderBy(col('diff_rank').desc()).show(7, truncate=False)\n",
    "\n",
    "# Printing te\n",
    "def print_title(cluster, subset=''):\n",
    "    print(\"~~~~~~~~~~~~~~~~~~~~~~~~~~~~~~~~\")\n",
    "    print(subset, \", cluster\", cluster, \":\")"
   ]
  },
  {
   "cell_type": "code",
   "execution_count": 0,
   "metadata": {
    "application/vnd.databricks.v1+cell": {
     "cellMetadata": {
      "byteLimit": 2048000,
      "rowLimit": 10000
     },
     "inputWidgets": {},
     "nuid": "ef7b4fdf-859a-4ca3-b51a-49d1b016043d",
     "showTitle": false,
     "title": ""
    }
   },
   "outputs": [
    {
     "output_type": "stream",
     "name": "stdout",
     "output_type": "stream",
     "text": [
      "~~~~~~~~~~~~~~~~~~~~~~~~~~~~~~~~\nfull data , cluster 0 :\n+-----------+-------------------+\n|station_num|diff_rank          |\n+-----------+-------------------+\n|16374      |0.15923312579402493|\n|60179      |0.14842073350135188|\n|14902      |0.11097756387408242|\n|11221      |0.11008892738106524|\n|49788      |0.10625692103643791|\n|61522      |0.10264767102404004|\n|11069      |0.08976342159548512|\n+-----------+-------------------+\nonly showing top 7 rows\n\n~~~~~~~~~~~~~~~~~~~~~~~~~~~~~~~~\nthirds subset , cluster 0 :\n+-----------+-------------------+\n|station_num|diff_rank          |\n+-----------+-------------------+\n|60179      |0.31254032258329056|\n|74796      |0.1863563815667193 |\n|14902      |0.15242273757985458|\n|61522      |0.1262364192961224 |\n|11221      |0.10482651554376776|\n|31709      |0.0958460310449806 |\n|11865      |0.08921634648613072|\n+-----------+-------------------+\nonly showing top 7 rows\n\n~~~~~~~~~~~~~~~~~~~~~~~~~~~~~~~~\nseventeenths subset , cluster 0 :\n+-----------+-------------------+\n|station_num|diff_rank          |\n+-----------+-------------------+\n|14902      |0.5769473259115614 |\n|11221      |0.3911958839718861 |\n|74796      |0.31833500072735776|\n|11066      |0.2637622527462131 |\n|12131      |0.21366377572852113|\n|12574      |0.204954939334816  |\n|10335      |0.1953586276967552 |\n+-----------+-------------------+\nonly showing top 7 rows\n\n~~~~~~~~~~~~~~~~~~~~~~~~~~~~~~~~\nfull data , cluster 1 :\n+-----------+-------------------+\n|station_num|diff_rank          |\n+-----------+-------------------+\n|60179      |0.2722119018380882 |\n|16374      |0.16436943002324877|\n|19606      |0.1553240200859785 |\n|11661      |0.12009206177267501|\n|14771      |0.11737229337020638|\n|57708      |0.11567424946744015|\n|11713      |0.11211306315569408|\n+-----------+-------------------+\nonly showing top 7 rows\n\n~~~~~~~~~~~~~~~~~~~~~~~~~~~~~~~~\nthirds subset , cluster 1 :\n+-----------+-------------------+\n|station_num|diff_rank          |\n+-----------+-------------------+\n|60179      |0.3257844309953972 |\n|16374      |0.24645356348572767|\n|19606      |0.20289683072756137|\n|32645      |0.159782239836183  |\n|11713      |0.14509478696830153|\n|57708      |0.13523485370831273|\n|56905      |0.1289513287195525 |\n+-----------+-------------------+\nonly showing top 7 rows\n\n~~~~~~~~~~~~~~~~~~~~~~~~~~~~~~~~\nseventeenths subset , cluster 1 :\n+-----------+-------------------+\n|station_num|diff_rank          |\n+-----------+-------------------+\n|60179      |0.28003766213989745|\n|11150      |0.2283738314740873 |\n|14771      |0.22062384036886917|\n|31258      |0.21836150390360862|\n|16616      |0.20818063818017263|\n|16331      |0.18193791686009664|\n|58515      |0.15870132749277654|\n+-----------+-------------------+\nonly showing top 7 rows\n\n~~~~~~~~~~~~~~~~~~~~~~~~~~~~~~~~\nfull data , cluster 2 :\n+-----------+-------------------+\n|station_num|diff_rank          |\n+-----------+-------------------+\n|15433      |0.11791950188739703|\n|10145      |0.10630224656836074|\n|11865      |0.08286711119238352|\n|10510      |0.07806408039842058|\n|11187      |0.0738676106597328 |\n|21762      |0.07351547418256477|\n|34240      |0.07267485985629957|\n+-----------+-------------------+\nonly showing top 7 rows\n\n~~~~~~~~~~~~~~~~~~~~~~~~~~~~~~~~\nthirds subset , cluster 2 :\n+-----------+-------------------+\n|station_num|diff_rank          |\n+-----------+-------------------+\n|16615      |0.2315125425597323 |\n|15433      |0.18577040793834743|\n|11187      |0.17533518315085106|\n|12574      |0.16603415578248382|\n|11865      |0.16167063242779958|\n|11069      |0.15310719832753994|\n|61623      |0.13955625920803805|\n+-----------+-------------------+\nonly showing top 7 rows\n\n~~~~~~~~~~~~~~~~~~~~~~~~~~~~~~~~\nseventeenths subset , cluster 2 :\n+-----------+-------------------+\n|station_num|diff_rank          |\n+-----------+-------------------+\n|15433      |0.4636533024595092 |\n|16615      |0.40436055486139344|\n|14909      |0.3403616163267565 |\n|10142      |0.32774289405195   |\n|12574      |0.260043981687216  |\n|53041      |0.2597496887294996 |\n|18279      |0.2486768691882114 |\n+-----------+-------------------+\nonly showing top 7 rows\n\n~~~~~~~~~~~~~~~~~~~~~~~~~~~~~~~~\nfull data , cluster 3 :\n+-----------+-------------------+\n|station_num|diff_rank          |\n+-----------+-------------------+\n|12131      |1.056068359926223  |\n|10222      |0.7488988720765152 |\n|11118      |0.7024079960894666 |\n|10171      |0.64983723941455   |\n|59684      |0.5041490318723634 |\n|44714      |0.40364589844594684|\n|10730      |0.35146801237026104|\n+-----------+-------------------+\nonly showing top 7 rows\n\n~~~~~~~~~~~~~~~~~~~~~~~~~~~~~~~~\nthirds subset , cluster 3 :\n+-----------+-------------------+\n|station_num|diff_rank          |\n+-----------+-------------------+\n|12131      |1.0897531262690612 |\n|10222      |0.884679428690159  |\n|11118      |0.8396550589842099 |\n|10171      |0.756328220117088  |\n|10559      |0.5590651851841111 |\n|44714      |0.41829718903832136|\n|31738      |0.3929774164488179 |\n+-----------+-------------------+\nonly showing top 7 rows\n\n~~~~~~~~~~~~~~~~~~~~~~~~~~~~~~~~\nseventeenths subset , cluster 3 :\n+-----------+------------------+\n|station_num|diff_rank         |\n+-----------+------------------+\n|11118      |0.8599170424831888|\n|56905      |0.7207532651789998|\n|12131      |0.6974424589571326|\n|10222      |0.6192752164448058|\n|11150      |0.5734656895072621|\n|12458      |0.5562752293844562|\n|55887      |0.5523719501377466|\n+-----------+------------------+\nonly showing top 7 rows\n\n~~~~~~~~~~~~~~~~~~~~~~~~~~~~~~~~\nfull data , cluster 4 :\n+-----------+------------------+\n|station_num|diff_rank         |\n+-----------+------------------+\n|35513      |1.1901430650335738|\n|70387      |0.945459560515887 |\n|11706      |0.8962938474500584|\n|10918      |0.8507134976471332|\n|12131      |0.7687667798064091|\n|10179      |0.7128876721695723|\n|10171      |0.6626916471313644|\n+-----------+------------------+\nonly showing top 7 rows\n\n~~~~~~~~~~~~~~~~~~~~~~~~~~~~~~~~\nthirds subset , cluster 4 :\n+-----------+------------------+\n|station_num|diff_rank         |\n+-----------+------------------+\n|35513      |1.1046927036461247|\n|11706      |0.9486558852530687|\n|70387      |0.9327355291584859|\n|10918      |0.7675099314386936|\n|11561      |0.7386222846752675|\n|10171      |0.6727230123668573|\n|10179      |0.6606831130501856|\n+-----------+------------------+\nonly showing top 7 rows\n\n~~~~~~~~~~~~~~~~~~~~~~~~~~~~~~~~\nseventeenths subset , cluster 4 :\n+-----------+------------------+\n|station_num|diff_rank         |\n+-----------+------------------+\n|12131      |1.2448686852944777|\n|35513      |1.184330348328002 |\n|10171      |1.0223184642155   |\n|70387      |0.9302948503882572|\n|10918      |0.8262846990017919|\n|16615      |0.8142938758481012|\n|10153      |0.6279588910862992|\n+-----------+------------------+\nonly showing top 7 rows\n\n~~~~~~~~~~~~~~~~~~~~~~~~~~~~~~~~\nfull data , cluster 5 :\n+-----------+-------------------+\n|station_num|diff_rank          |\n+-----------+-------------------+\n|60179      |0.2987210477817668 |\n|49788      |0.23767370375439967|\n|59684      |0.14301584761738728|\n|32645      |0.11185536490272607|\n|99995      |0.09096949902615714|\n|58646      |0.08850283040695028|\n|14902      |0.08600050175988172|\n+-----------+-------------------+\nonly showing top 7 rows\n\n~~~~~~~~~~~~~~~~~~~~~~~~~~~~~~~~\nthirds subset , cluster 5 :\n+-----------+-------------------+\n|station_num|diff_rank          |\n+-----------+-------------------+\n|60179      |0.3096251896706763 |\n|49788      |0.2518478624181806 |\n|59684      |0.15199265000281337|\n|14771      |0.1474698195681141 |\n|99995      |0.14657116586663   |\n|14902      |0.1295171259638206 |\n|64241      |0.10802550614325668|\n+-----------+-------------------+\nonly showing top 7 rows\n\n~~~~~~~~~~~~~~~~~~~~~~~~~~~~~~~~\nseventeenths subset , cluster 5 :\n+-----------+-------------------+\n|station_num|diff_rank          |\n+-----------+-------------------+\n|59684      |0.9002360741864    |\n|30646      |0.6720441208603702 |\n|14771      |0.551159945146154  |\n|60179      |0.4806567004581681 |\n|47540      |0.47319229688287623|\n|32645      |0.4464661579335747 |\n|49788      |0.3399283869467018 |\n+-----------+-------------------+\nonly showing top 7 rows\n\n"
     ]
    }
   ],
   "source": [
    "# Calculating the percentage of views in every station w.r.t the entire dataframe (without dividing to clusters)\n",
    "num_rows = viewing_events.count()\n",
    "station_general_popularity_rating = viewing_events.groupBy('station_num').agg(((count(col('household_id'))/num_rows)*100)\\\n",
    "                                                  .alias(\"general_percent_events\")).cache()\n",
    "\n",
    "# Divide the data to clusters according to the k-means division from earlier,\n",
    "# and finding the diff_rank value of each station for each set:\n",
    "# 3 sets for each cluster, one of the full data, another is the 3rds subset, and the last is the 17ths subset.\n",
    "for cluster in range(6):\n",
    "    cluster_df = viewing_events.filter(col('cluster') == cluster)\\\n",
    "                               .join(station_general_popularity_rating, 'station_num', 'inner').cache()\n",
    "                               # Adding the column of the percentage of views in every station w.r.t the entire dataframe\n",
    "\n",
    "\n",
    "    print_title(cluster, \"full data\")\n",
    "    # Calculating the diff_rank value for each station in the full data\n",
    "    substruct_columns(count_viewing_events(cluster_df))\n",
    "\n",
    "    print_title(cluster, \"thirds subset\")\n",
    "    # Calculating the diff_rank value for each station in the 3rds subset\n",
    "    substruct_columns(count_viewing_events(cluster_df.where((col(\"row_number\") % 3) == 0)))\n",
    "\n",
    "    print_title(cluster, \"seventeenths subset\")\n",
    "    # Calculating the diff_rank value for each station in the 17rds subset\n",
    "    substruct_columns(count_viewing_events(cluster_df.where((col(\"row_number\") % 17) == 0)))\n"
   ]
  },
  {
   "cell_type": "markdown",
   "metadata": {
    "application/vnd.databricks.v1+cell": {
     "cellMetadata": {},
     "inputWidgets": {},
     "nuid": "64867f80-23ee-4fd8-87f5-1be88b5bfe1d",
     "showTitle": false,
     "title": ""
    }
   },
   "source": [
    "# Read Streaming viewing data from Kafka"
   ]
  },
  {
   "cell_type": "code",
   "execution_count": 0,
   "metadata": {
    "application/vnd.databricks.v1+cell": {
     "cellMetadata": {
      "byteLimit": 2048000,
      "rowLimit": 10000
     },
     "inputWidgets": {},
     "nuid": "3a4d6591-b77f-4307-9c07-a50f36777465",
     "showTitle": false,
     "title": ""
    }
   },
   "outputs": [],
   "source": [
    "topic = \"viewstream\" \n",
    "streaming_df = spark.readStream\\\n",
    "                  .format(\"kafka\")\\\n",
    "                  .option(\"kafka.bootstrap.servers\", kafka_server)\\\n",
    "                  .option(\"subscribe\", topic)\\\n",
    "                  .option(\"startingOffsets\", \"earliest\")\\\n",
    "                  .option(\"failOnDataLoss\",False)\\\n",
    "                  .option(\"maxOffsetsPerTrigger\", OFFSETS_PER_TRIGGER )\\\n",
    "                  .load()\\\n",
    "                  .select(F.from_csv(F.decode(\"value\", \"US-ASCII\"), schema=SCHEMA).alias(\"value\")).select(\"value.*\")"
   ]
  },
  {
   "cell_type": "markdown",
   "metadata": {
    "application/vnd.databricks.v1+cell": {
     "cellMetadata": {},
     "inputWidgets": {},
     "nuid": "32390938-d383-4589-a98d-785a3b1344e3",
     "showTitle": false,
     "title": ""
    }
   },
   "source": [
    "## Dynamic Data Analysis - Streaming"
   ]
  },
  {
   "cell_type": "code",
   "execution_count": 0,
   "metadata": {
    "application/vnd.databricks.v1+cell": {
     "cellMetadata": {
      "byteLimit": 2048000,
      "rowLimit": 10000
     },
     "inputWidgets": {},
     "nuid": "f9848741-011a-43eb-8aa0-d96185ac5d6b",
     "showTitle": false,
     "title": ""
    }
   },
   "outputs": [],
   "source": [
    "# Only taking the relevant columns from the 3rds subset.\n",
    "thirds_subset = thirds_subset.select('household_id', 'cluster')"
   ]
  },
  {
   "cell_type": "code",
   "execution_count": 0,
   "metadata": {
    "application/vnd.databricks.v1+cell": {
     "cellMetadata": {
      "byteLimit": 2048000,
      "rowLimit": 10000
     },
     "inputWidgets": {},
     "nuid": "a2556712-face-45f5-b975-5aece87437b7",
     "showTitle": false,
     "title": ""
    }
   },
   "outputs": [],
   "source": [
    "# Calculating the diff_rank value for each station in the given dataframe.\n",
    "def calculate_diff_rank(df, col1='viewing_num', col2='general_percent_events'):\n",
    "    # Getting the number of events in the dataframe\n",
    "    num_events = df.groupBy().sum('viewing_num').collect()[0][0]\n",
    "    # Calculating the percentage of views in every station w.r.t the given dataframe\n",
    "    df = df.withColumn('percent_num_events', (df[col1]/num_events)*100).drop(col1)\n",
    "    # Substructing the percentage of views in every station w.r.t the entire data\n",
    "    # from the percentage of views in every station w.r.t the given dataframe.\n",
    "    df.withColumn('diff_rank', df['percent_num_events']-df[col2])\\\n",
    "        .drop('percent_num_events', col2)\\\n",
    "        .orderBy(col('diff_rank').desc())\\\n",
    "        .show(7, truncate=False)"
   ]
  },
  {
   "cell_type": "code",
   "execution_count": 0,
   "metadata": {
    "application/vnd.databricks.v1+cell": {
     "cellMetadata": {
      "byteLimit": 2048000,
      "rowLimit": 10000
     },
     "inputWidgets": {},
     "nuid": "8f3e09b1-6e0e-4023-a6b4-87a008dcda95",
     "showTitle": false,
     "title": ""
    }
   },
   "outputs": [],
   "source": [
    "schema = StructType([\n",
    "    StructField(\"station_num\", StringType()),\n",
    "    StructField(\"viewing_num\", DoubleType())\n",
    "])\n",
    "\n",
    "batch_schema = StructType([\n",
    "    StructField(\"station_num\", StringType()),\n",
    "    StructField(\"general_num_events\", DoubleType()),\n",
    "])\n",
    "\n",
    "# Initializing global variables, to be used inside the following 'handle_batch' function.\n",
    "max_num_batches = 0 \n",
    "empty_df = spark.createDataFrame(spark.sparkContext.emptyRDD(), schema)\n",
    "clusters_stations_count = [empty_df for _ in range(6)] #a list of (currently) empty dataframes,\n",
    "                                                       #containing the fields 'station_num', 'viewing_num'.\n",
    "unioned_batches = spark.createDataFrame(spark.sparkContext.emptyRDD(), batch_schema)\n",
    "num_rows = 0"
   ]
  },
  {
   "cell_type": "code",
   "execution_count": 0,
   "metadata": {
    "application/vnd.databricks.v1+cell": {
     "cellMetadata": {
      "byteLimit": 2048000,
      "rowLimit": 10000
     },
     "inputWidgets": {},
     "nuid": "69c4fcb5-368b-467e-aeb9-866d8f5bd05c",
     "showTitle": false,
     "title": ""
    }
   },
   "outputs": [],
   "source": [
    "# Divide the data to clusters according to the k-means division from earlier,\n",
    "# and finding the diff_rank value of each station for each cluster, using only the 3rds subset.\n",
    "def handle_batch(batch, epoch_num):\n",
    "    global max_num_batches\n",
    "    global clusters_stations_count\n",
    "    global unioned_batches\n",
    "    global num_rows\n",
    "    max_num_batches = epoch_num #because we want to know the serial number of the current batch\n",
    "    \n",
    "    num_rows += batch.count() #counting the number of events in all the batches up until the current one (inclusive)\n",
    "    # Counting the number of events per station in all the batches recieved up until the current one (inclusive).\n",
    "    unioned_batches = batch.groupBy('station_num')\\\n",
    "                            .agg(count(col('household_id')).alias(\"general_num_events\"))\\\n",
    "                            .union(unioned_batches)\\\n",
    "                            .groupBy('station_num')\\\n",
    "                            .agg(sum(col('general_num_events')).alias(\"general_num_events\")).cache()\n",
    "\n",
    "    # Calculating the percentage of views in every station w.r.t the entire dataframe (without dividing to clusters)\n",
    "    station_general_percent = unioned_batches.withColumn('general_percent_events', (col('general_num_events')/num_rows)*100)\\\n",
    "                                            .drop('general_num_events')\\\n",
    "                                            .cache()\n",
    "    unioned_batches.unpersist()\n",
    "    # Divide the data to clusters according to the k-means division from earlier.\n",
    "    batch_to_clusters = thirds_subset.join(batch, 'household_id', 'inner').cache()\n",
    "\n",
    "    for cluster in range(6):\n",
    "        print_title(cluster, 'batch number ' + str(epoch_num))\n",
    "        # Counting the number of events per station in every cluster (separately) for the current batch,\n",
    "        # and then adding these countings to the countings of previous batches.\n",
    "        clusters_stations_count[cluster] = batch_to_clusters.filter(col('cluster') == cluster)\\\n",
    "                                                            .groupBy('station_num')\\\n",
    "                                                            .agg(count('household_id').alias('viewing_num'))\\\n",
    "                                                            .union(clusters_stations_count[cluster])\\\n",
    "                                                            .groupBy('station_num')\\\n",
    "                                                            .agg(sum('viewing_num').alias('viewing_num')).cache()\n",
    "\n",
    "        # Adding the column of the percentage of views in every station w.r.t the entire dataframe.\n",
    "        clusters_stations_count_with_general = clusters_stations_count[cluster].join(station_general_percent,\n",
    "                                                                                     'station_num',\n",
    "                                                                                     'inner').cache()\n",
    "        # At last, calculate the diff_rank for every station in this cluster,\n",
    "        # according to the viewing events given by this batch or by previous ones.\n",
    "        calculate_diff_rank(clusters_stations_count_with_general)\n",
    "        clusters_stations_count_with_general.unpersist()\n"
   ]
  },
  {
   "cell_type": "code",
   "execution_count": 0,
   "metadata": {
    "application/vnd.databricks.v1+cell": {
     "cellMetadata": {
      "byteLimit": 2048000,
      "rowLimit": 10000
     },
     "inputWidgets": {},
     "nuid": "058435eb-1b73-47c9-862e-86ed7d5dbe59",
     "showTitle": false,
     "title": ""
    }
   },
   "outputs": [
    {
     "output_type": "stream",
     "name": "stdout",
     "output_type": "stream",
     "text": [
      "~~~~~~~~~~~~~~~~~~~~~~~~~~~~~~~~\nbatch number 0 , cluster 0 :\n+-----------+-------------------+\n|station_num|diff_rank          |\n+-----------+-------------------+\n|32645      |0.5698011049723757 |\n|11164      |0.4200662983425415 |\n|74796      |0.3600773480662983 |\n|14902      |0.3335690607734807 |\n|60179      |0.33286187845303883|\n|10021      |0.32127071823204423|\n|11221      |0.3115690607734807 |\n+-----------+-------------------+\nonly showing top 7 rows\n\n~~~~~~~~~~~~~~~~~~~~~~~~~~~~~~~~\nbatch number 0 , cluster 1 :\n+-----------+-------------------+\n|station_num|diff_rank          |\n+-----------+-------------------+\n|32645      |0.3660064205457463 |\n|56905      |0.33888924558587474|\n|19606      |0.33128410914927764|\n|57708      |0.2641829855537721 |\n|11661      |0.24702728731942214|\n|58646      |0.24669662921348312|\n|45507      |0.23463242375601923|\n+-----------+-------------------+\nonly showing top 7 rows\n\n~~~~~~~~~~~~~~~~~~~~~~~~~~~~~~~~\nbatch number 0 , cluster 2 :\n+-----------+-------------------+\n|station_num|diff_rank          |\n+-----------+-------------------+\n|14771      |0.35614461846051326|\n|99995      |0.34017794068643803|\n|16615      |0.33624458513828714|\n|61522      |0.312377874041986  |\n|11865      |0.30247784071976   |\n|16409      |0.26776674441852716|\n|12131      |0.25298900366544486|\n+-----------+-------------------+\nonly showing top 7 rows\n\n~~~~~~~~~~~~~~~~~~~~~~~~~~~~~~~~\nbatch number 0 , cluster 3 :\n+-----------+------------------+\n|station_num|diff_rank         |\n+-----------+------------------+\n|11118      |1.8721290322580644|\n|58574      |1.4589354838709676|\n|64490      |0.872483870967742 |\n|10222      |0.8552580645161291|\n|21883      |0.8248709677419355|\n|59684      |0.6908709677419356|\n|65732      |0.6580645161290322|\n+-----------+------------------+\nonly showing top 7 rows\n\n~~~~~~~~~~~~~~~~~~~~~~~~~~~~~~~~\nbatch number 0 , cluster 4 :\n+-----------+------------------+\n|station_num|diff_rank         |\n+-----------+------------------+\n|10171      |1.6332320217096334|\n|14765      |1.1799077340569877|\n|35513      |1.1168521031207599|\n|70387      |0.9808521031207599|\n|11561      |0.9311668928086838|\n|12131      |0.9160651289009497|\n|44940      |0.8973242876526457|\n+-----------+------------------+\nonly showing top 7 rows\n\n~~~~~~~~~~~~~~~~~~~~~~~~~~~~~~~~\nbatch number 0 , cluster 5 :\n+-----------+-------------------+\n|station_num|diff_rank          |\n+-----------+-------------------+\n|51529      |0.45766630316248635|\n|10179      |0.4161788440567067 |\n|16616      |0.4083075245365322 |\n|64241      |0.38578189749182124|\n|58515      |0.3524100327153763 |\n|21214      |0.3462050163576882 |\n|57394      |0.2912562704471101 |\n+-----------+-------------------+\nonly showing top 7 rows\n\n~~~~~~~~~~~~~~~~~~~~~~~~~~~~~~~~\nbatch number 1 , cluster 0 :\n+-----------+-------------------+\n|station_num|diff_rank          |\n+-----------+-------------------+\n|32645      |0.3885284898690249 |\n|10021      |0.26711138475316254|\n|16615      |0.24711138475316252|\n|11221      |0.22952804209112287|\n|14902      |0.22888917496921546|\n|60179      |0.21733370648158523|\n|58646      |0.20533370648158522|\n+-----------+-------------------+\nonly showing top 7 rows\n\n~~~~~~~~~~~~~~~~~~~~~~~~~~~~~~~~\nbatch number 1 , cluster 1 :\n+-----------+-------------------+\n|station_num|diff_rank          |\n+-----------+-------------------+\n|11661      |0.3253979067739122 |\n|11713      |0.24612375230157968|\n|60179      |0.24041147398003693|\n|36069      |0.23157805988952418|\n|10179      |0.22028248861323774|\n|20288      |0.20772584552766743|\n|57391      |0.19621513712569055|\n+-----------+-------------------+\nonly showing top 7 rows\n\n~~~~~~~~~~~~~~~~~~~~~~~~~~~~~~~~\nbatch number 1 , cluster 2 :\n+-----------+-------------------+\n|station_num|diff_rank          |\n+-----------+-------------------+\n|10142      |0.47225876010781676|\n|16615      |0.2559353099730458 |\n|10918      |0.24847169811320757|\n|16123      |0.24323719676549865|\n|10510      |0.21461994609164423|\n|10402      |0.20946630727762805|\n|10518      |0.20785175202156336|\n+-----------+-------------------+\nonly showing top 7 rows\n\n~~~~~~~~~~~~~~~~~~~~~~~~~~~~~~~~\nbatch number 1 , cluster 3 :\n+-----------+------------------+\n|station_num|diff_rank         |\n+-----------+------------------+\n|19320      |1.9479262493934983|\n|11118      |1.5562047549733138|\n|51529      |0.8561242115477925|\n|58574      |0.7440436681222706|\n|10222      |0.6678020378457059|\n|10171      |0.5216443474041728|\n|44714      |0.5107214944201844|\n+-----------+------------------+\nonly showing top 7 rows\n\n~~~~~~~~~~~~~~~~~~~~~~~~~~~~~~~~\nbatch number 1 , cluster 4 :\n+-----------+------------------+\n|station_num|diff_rank         |\n+-----------+------------------+\n|10171      |1.1746328469630136|\n|35513      |1.0305812690872072|\n|14765      |0.890976586359009 |\n|11367      |0.8307828299966068|\n|11207      |0.7821109602986087|\n|11561      |0.7429172039362062|\n|70387      |0.7199172039362061|\n+-----------+------------------+\nonly showing top 7 rows\n\n~~~~~~~~~~~~~~~~~~~~~~~~~~~~~~~~\nbatch number 1 , cluster 5 :\n+-----------+-------------------+\n|station_num|diff_rank          |\n+-----------+-------------------+\n|16616      |0.34517137265865255|\n|58623      |0.33790970086664807|\n|10145      |0.31447358121330715|\n|31042      |0.3041713726586526 |\n|64490      |0.2920841487279843 |\n|34432      |0.28817137265865256|\n|64241      |0.28621498462398665|\n+-----------+-------------------+\nonly showing top 7 rows\n\n~~~~~~~~~~~~~~~~~~~~~~~~~~~~~~~~\nbatch number 2 , cluster 0 :\n+-----------+-------------------+\n|station_num|diff_rank          |\n+-----------+-------------------+\n|19320      |0.3802567550740879 |\n|60179      |0.2742380774498816 |\n|10021      |0.26415664300834263|\n|16615      |0.2599907857053916 |\n|14902      |0.2581723322126759 |\n|11221      |0.22999701158012686|\n|74796      |0.18903922301083287|\n+-----------+-------------------+\nonly showing top 7 rows\n\n~~~~~~~~~~~~~~~~~~~~~~~~~~~~~~~~\nbatch number 2 , cluster 1 :\n+-----------+-------------------+\n|station_num|diff_rank          |\n+-----------+-------------------+\n|60179      |0.3302798136918885 |\n|11661      |0.2640699534229721 |\n|16374      |0.25845241233851857|\n|36069      |0.24138412865805436|\n|19606      |0.20705246506722913|\n|11713      |0.19400228491080052|\n|20288      |0.17971913173389578|\n+-----------+-------------------+\nonly showing top 7 rows\n\n~~~~~~~~~~~~~~~~~~~~~~~~~~~~~~~~\nbatch number 2 , cluster 2 :\n+-----------+-------------------+\n|station_num|diff_rank          |\n+-----------+-------------------+\n|10142      |0.3153977340488965 |\n|58646      |0.2958902802623733 |\n|16615      |0.2909433512224211 |\n|12131      |0.21570661896243293|\n|19630      |0.2152271914132379 |\n|10510      |0.20096243291592128|\n|14767      |0.19200596302921885|\n+-----------+-------------------+\nonly showing top 7 rows\n\n~~~~~~~~~~~~~~~~~~~~~~~~~~~~~~~~\nbatch number 2 , cluster 3 :\n+-----------+------------------+\n|station_num|diff_rank         |\n+-----------+------------------+\n|19320      |1.8553516763477023|\n|11118      |1.2204877203709366|\n|10222      |0.8710557423825537|\n|51529      |0.8602977682665852|\n|44714      |0.7322922653622745|\n|10171      |0.6622064608172835|\n|16288      |0.5934338122898196|\n+-----------+------------------+\nonly showing top 7 rows\n\n~~~~~~~~~~~~~~~~~~~~~~~~~~~~~~~~\nbatch number 2 , cluster 4 :\n+-----------+------------------+\n|station_num|diff_rank         |\n+-----------+------------------+\n|10171      |1.3620028005011422|\n|70387      |0.9541049450954382|\n|12131      |0.9329560026531064|\n|35513      |0.8370240990493036|\n|11367      |0.7549148795047534|\n|11561      |0.7210240990493035|\n|11207      |0.6546623922175547|\n+-----------+------------------+\nonly showing top 7 rows\n\n~~~~~~~~~~~~~~~~~~~~~~~~~~~~~~~~\nbatch number 2 , cluster 5 :\n+-----------+-------------------+\n|station_num|diff_rank          |\n+-----------+-------------------+\n|58623      |0.4155642733777449 |\n|64490      |0.3758494942018258 |\n|16616      |0.36714433752775727|\n|10178      |0.3378302491981249 |\n|34432      |0.30181100419442397|\n|59684      |0.2570017271157167 |\n|15591      |0.24825808043424624|\n+-----------+-------------------+\nonly showing top 7 rows\n\n~~~~~~~~~~~~~~~~~~~~~~~~~~~~~~~~\nbatch number 3 , cluster 0 :\n+-----------+-------------------+\n|station_num|diff_rank          |\n+-----------+-------------------+\n|19320      |0.3701925859957697 |\n|60179      |0.2846869642658356 |\n|11221      |0.2689960480908382 |\n|14902      |0.2376013024602026 |\n|10021      |0.2251942558165424 |\n|74796      |0.21006044751196706|\n|16615      |0.2072138483802738 |\n+-----------+-------------------+\nonly showing top 7 rows\n\n~~~~~~~~~~~~~~~~~~~~~~~~~~~~~~~~\nbatch number 3 , cluster 1 :\n+-----------+-------------------+\n|station_num|diff_rank          |\n+-----------+-------------------+\n|60179      |0.3111390139013901 |\n|36069      |0.28807900790079   |\n|16374      |0.2526605160516051 |\n|20288      |0.22253050305030503|\n|11661      |0.20702700270027002|\n|11713      |0.20656650665066517|\n|19606      |0.18852300230023   |\n+-----------+-------------------+\nonly showing top 7 rows\n\n~~~~~~~~~~~~~~~~~~~~~~~~~~~~~~~~\nbatch number 3 , cluster 2 :\n+-----------+-------------------+\n|station_num|diff_rank          |\n+-----------+-------------------+\n|16615      |0.35898002663115836|\n|58646      |0.2548355525965379 |\n|12131      |0.21739081225033274|\n|10142      |0.20542543275632497|\n|57394      |0.17907856191744342|\n|11187      |0.1727796271637817 |\n|11097      |0.16545739014647132|\n+-----------+-------------------+\nonly showing top 7 rows\n\n~~~~~~~~~~~~~~~~~~~~~~~~~~~~~~~~\nbatch number 3 , cluster 3 :\n+-----------+------------------+\n|station_num|diff_rank         |\n+-----------+------------------+\n|19320      |1.3211378555798685|\n|11118      |0.9979737417943108|\n|10222      |0.8634190371991246|\n|51529      |0.7536739606126914|\n|44714      |0.7119824945295404|\n|10171      |0.6992472647702408|\n|16288      |0.5916914660831509|\n+-----------+------------------+\nonly showing top 7 rows\n\n~~~~~~~~~~~~~~~~~~~~~~~~~~~~~~~~\nbatch number 3 , cluster 4 :\n+-----------+------------------+\n|station_num|diff_rank         |\n+-----------+------------------+\n|10171      |1.2440050093926116|\n|70387      |1.128089542892924 |\n|35513      |0.9485763932373199|\n|12131      |0.8887874139010643|\n|11207      |0.7347808390732624|\n|11367      |0.6497980588603631|\n|14765      |0.6438850970569819|\n+-----------+------------------+\nonly showing top 7 rows\n\n~~~~~~~~~~~~~~~~~~~~~~~~~~~~~~~~\nbatch number 3 , cluster 5 :\n+-----------+-------------------+\n|station_num|diff_rank          |\n+-----------+-------------------+\n|64490      |0.3729514249613927 |\n|16616      |0.3651001684683419 |\n|58623      |0.35384170995367115|\n|59684      |0.3245685104590762 |\n|10057      |0.29137336796293695|\n|10178      |0.27410016846834195|\n|34432      |0.23970988347606342|\n+-----------+-------------------+\nonly showing top 7 rows\n\n~~~~~~~~~~~~~~~~~~~~~~~~~~~~~~~~\nbatch number 4 , cluster 0 :\n+-----------+-------------------+\n|station_num|diff_rank          |\n+-----------+-------------------+\n|19320      |0.38432703484491115|\n|60179      |0.3284562324774152 |\n|14902      |0.2755071336389123 |\n|10021      |0.2684919941257622 |\n|74796      |0.25613208134929455|\n|11221      |0.2208876685505763 |\n|16615      |0.21609776155934324|\n+-----------+-------------------+\nonly showing top 7 rows\n\n~~~~~~~~~~~~~~~~~~~~~~~~~~~~~~~~\nbatch number 4 , cluster 1 :\n+-----------+-------------------+\n|station_num|diff_rank          |\n+-----------+-------------------+\n|60179      |0.3299520567261591 |\n|16374      |0.28519630957656794|\n|36069      |0.2475885258450506 |\n|11661      |0.2184192578864671 |\n|20288      |0.20839041134523184|\n|19606      |0.20658848555658516|\n|16062      |0.18763466419564084|\n+-----------+-------------------+\nonly showing top 7 rows\n\n~~~~~~~~~~~~~~~~~~~~~~~~~~~~~~~~\nbatch number 4 , cluster 2 :\n+-----------+-------------------+\n|station_num|diff_rank          |\n+-----------+-------------------+\n|16615      |0.3414402151983861 |\n|12131      |0.25619071956960326|\n|11187      |0.2186665770006725 |\n|42642      |0.2126698049764627 |\n|58646      |0.19861708137188971|\n|58452      |0.19244707464694016|\n|16123      |0.18412131809011428|\n+-----------+-------------------+\nonly showing top 7 rows\n\n~~~~~~~~~~~~~~~~~~~~~~~~~~~~~~~~\nbatch number 4 , cluster 3 :\n+-----------+------------------+\n|station_num|diff_rank         |\n+-----------+------------------+\n|11118      |1.1786573164381184|\n|19320      |1.1054478042006597|\n|10171      |0.8935755597986459|\n|10222      |0.8573372678354453|\n|44714      |0.7786305849678875|\n|51529      |0.7376154139906267|\n|59684      |0.6636344384655442|\n+-----------+------------------+\nonly showing top 7 rows\n\n~~~~~~~~~~~~~~~~~~~~~~~~~~~~~~~~\nbatch number 4 , cluster 4 :\n+-----------+------------------+\n|station_num|diff_rank         |\n+-----------+------------------+\n|70387      |1.3340688845401174|\n|10171      |1.3061424657534242|\n|35513      |1.091170254403131 |\n|12131      |0.9145925636007827|\n|11207      |0.6540031311154598|\n|44940      |0.6482880626223091|\n|14765      |0.6178755381604695|\n+-----------+------------------+\nonly showing top 7 rows\n\n~~~~~~~~~~~~~~~~~~~~~~~~~~~~~~~~\nbatch number 4 , cluster 5 :\n+-----------+-------------------+\n|station_num|diff_rank          |\n+-----------+-------------------+\n|16616      |0.4062964028776978 |\n|59684      |0.37231654676258996|\n|10057      |0.3655064748201438 |\n|58623      |0.32111654676258994|\n|64490      |0.3106553956834532 |\n|10178      |0.2600503597122302 |\n|74796      |0.25087050359712226|\n+-----------+-------------------+\nonly showing top 7 rows\n\n~~~~~~~~~~~~~~~~~~~~~~~~~~~~~~~~\nbatch number 5 , cluster 0 :\n"
     ]
    }
   ],
   "source": [
    "import time\n",
    "\n",
    "# For every batch-size number of viewing events it recieves,\n",
    "# the following code performs a calculation of the diff_rank value for every station number of every cluster.\n",
    "streaming = streaming_df.writeStream\\\n",
    "                        .foreachBatch(handle_batch)\\\n",
    "                        .start()\n",
    "\n",
    "# The code should stop running after 5 batches are done being analysed.\n",
    "while (max_num_batches < 5):\n",
    "    time.sleep(2)\n",
    "streaming.stop()"
   ]
  }
 ],
 "metadata": {
  "application/vnd.databricks.v1+notebook": {
   "dashboards": [],
   "language": "python",
   "notebookMetadata": {
    "pythonIndentUnit": 4
   },
   "notebookName": "Project2",
   "widgets": {}
  }
 },
 "nbformat": 4,
 "nbformat_minor": 0
}
