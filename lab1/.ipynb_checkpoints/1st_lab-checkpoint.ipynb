{
 "cells": [
  {
   "cell_type": "code",
   "execution_count": 72,
   "id": "50110936",
   "metadata": {},
   "outputs": [],
   "source": [
    "import csv\n",
    "import json"
   ]
  },
  {
   "cell_type": "code",
   "execution_count": 73,
   "id": "303b6751",
   "metadata": {},
   "outputs": [],
   "source": [
    "def replace_dot(field, alt='_'):\n",
    "    new_s = ''\n",
    "    splitted = field.split(\".\")\n",
    "    count = 0\n",
    "    for s in splitted:\n",
    "        count += 1\n",
    "        if count == 1:\n",
    "            new_s = s\n",
    "        else:\n",
    "            new_s = new_s + alt + s\n",
    "    return new_s"
   ]
  },
  {
   "cell_type": "code",
   "execution_count": 74,
   "id": "6c37eb0e",
   "metadata": {},
   "outputs": [],
   "source": [
    "def fields_update(k, v, fields, values, daddy_key):\n",
    "    new_k = replace_dot(k)\n",
    "    if daddy_key:\n",
    "        curr = daddy_key + \".\" + new_k\n",
    "    else:\n",
    "        curr = new_k\n",
    "        \n",
    "    if type(v) is dict:\n",
    "        dict_recur(v, fields, values, curr)\n",
    "    elif type(v) is list:\n",
    "        array_recur(v, fields, values, curr)\n",
    "    else:               \n",
    "        fields.append(curr)\n",
    "        values.append(v)"
   ]
  },
  {
   "cell_type": "code",
   "execution_count": 75,
   "id": "75ae2058",
   "metadata": {},
   "outputs": [],
   "source": [
    "def array_recur(l, fields, values, daddy_key=''):\n",
    "    if not isinstance(l, list):\n",
    "        return\n",
    "    for i in range(len(l)):\n",
    "        fields_update(str(i), l[i], fields, values, daddy_key)"
   ]
  },
  {
   "cell_type": "code",
   "execution_count": 76,
   "id": "46420eaf",
   "metadata": {},
   "outputs": [],
   "source": [
    "def dict_recur(d, fields, values, daddy_key=''):\n",
    "    if not isinstance(d, dict):\n",
    "        return\n",
    "    for k,v in d.items():\n",
    "        fields_update(k, v, fields, values, daddy_key)"
   ]
  },
  {
   "cell_type": "code",
   "execution_count": 77,
   "id": "f19abd12",
   "metadata": {},
   "outputs": [],
   "source": [
    "def convert_to_metric(v):\n",
    "    temp = v.split(')')\n",
    "    if len(temp) > 1:\n",
    "        temp2 = temp[0].split('(')\n",
    "        return temp2[1]\n",
    "    return v"
   ]
  },
  {
   "cell_type": "code",
   "execution_count": 78,
   "id": "6d79b6ce",
   "metadata": {},
   "outputs": [],
   "source": [
    "def flatten_dict(data):\n",
    "    fields = []\n",
    "    values = []\n",
    "    dict_recur(data, fields, values)\n",
    "    new_dict = {}\n",
    "    for k,v in zip(fields, values):\n",
    "        if k == 'height' or k == 'weight':\n",
    "            v = convert_to_metric(v)\n",
    "        new_dict[k] = v\n",
    "    return new_dict, fields"
   ]
  },
  {
   "cell_type": "code",
   "execution_count": 79,
   "id": "f36a8b24",
   "metadata": {},
   "outputs": [],
   "source": [
    "def add_fields(all_fields, fields):\n",
    "    flag = False\n",
    "    for f in fields:\n",
    "        for af in all_fields:\n",
    "            if f == af:\n",
    "                flag = True\n",
    "        if (flag == False):\n",
    "            all_fields.append(f)\n",
    "        flag = False"
   ]
  },
  {
   "cell_type": "code",
   "execution_count": 80,
   "id": "38f63353",
   "metadata": {},
   "outputs": [],
   "source": [
    "def add_values(row, header):\n",
    "    rowie = {}\n",
    "    for h in header:\n",
    "        rowie[h] = ''\n",
    "    for k,v in row.items():\n",
    "        rowie[k] = v\n",
    "    return rowie"
   ]
  },
  {
   "cell_type": "code",
   "execution_count": 81,
   "id": "07be7450",
   "metadata": {},
   "outputs": [],
   "source": [
    "def json_to_tsv(path):\n",
    "    all_fields = []\n",
    "    with open(path) as json_file:\n",
    "        data = json.load(json_file)\n",
    "        old_entries = []\n",
    "        for r in data:\n",
    "            old_row, fields = flatten_dict(r)\n",
    "            add_fields(all_fields, fields)\n",
    "            old_entries.append(old_row)\n",
    "        entries_list = []\n",
    "        for e in old_entries:\n",
    "            row = add_values(e, all_fields)\n",
    "            entries_list.append(row)\n",
    "        entries_list.sort(key = lambda e: e['name'])\n",
    "\n",
    "    with open('new.tsv', \"w\", newline='') as csv_file:\n",
    "        writer = csv.DictWriter(csv_file, fieldnames=row.keys(), delimiter='\\t', quotechar='|', quoting=csv.QUOTE_MINIMAL)\n",
    "        writer.writeheader()\n",
    "        for row in entries_list:\n",
    "            writer.writerow(row)"
   ]
  },
  {
   "cell_type": "code",
   "execution_count": 82,
   "id": "a663ba62",
   "metadata": {},
   "outputs": [],
   "source": [
    "if __name__ == '__main__':\n",
    "    json_to_tsv(\"pokedex.json\")"
   ]
  }
 ],
 "metadata": {
  "kernelspec": {
   "display_name": "Python 3 (ipykernel)",
   "language": "python",
   "name": "python3"
  },
  "language_info": {
   "codemirror_mode": {
    "name": "ipython",
    "version": 3
   },
   "file_extension": ".py",
   "mimetype": "text/x-python",
   "name": "python",
   "nbconvert_exporter": "python",
   "pygments_lexer": "ipython3",
   "version": "3.10.9"
  }
 },
 "nbformat": 4,
 "nbformat_minor": 5
}
